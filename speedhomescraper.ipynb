{
 "cells": [
  {
   "cell_type": "code",
   "execution_count": 259,
   "metadata": {},
   "outputs": [],
   "source": [
    "import requests\n",
    "from bs4 import BeautifulSoup\n",
    "from time import sleep\n",
    "from csv import DictWriter\n",
    "import os\n",
    "from random import choice\n",
    "from random import randint\n",
    "\n",
    "BASE_URL = \"https://speedhome.com\""
   ]
  },
  {
   "cell_type": "code",
   "execution_count": 263,
   "metadata": {},
   "outputs": [
    {
     "name": "stdout",
     "output_type": "stream",
     "text": [
      "Now scraping https://speedhome.com/rent?pg=1\n",
      "Sleeping\n",
      "Now scraping https://speedhome.com/rent?pg=2\n",
      "Sleeping\n",
      "Now scraping https://speedhome.com/rent?pg=3\n",
      "Sleeping\n",
      "Now scraping https://speedhome.com/rent?pg=4\n",
      "Sleeping\n",
      "Now scraping https://speedhome.com/rent?pg=5\n",
      "Sleeping\n",
      "Now scraping https://speedhome.com/rent?pg=6\n",
      "Sleeping\n",
      "Now scraping https://speedhome.com/rent?pg=7\n",
      "Sleeping\n",
      "Now scraping https://speedhome.com/rent?pg=8\n",
      "Sleeping\n",
      "Now scraping https://speedhome.com/rent?pg=9\n",
      "Sleeping\n",
      "Now scraping https://speedhome.com/rent?pg=10\n",
      "Sleeping\n",
      "Now scraping https://speedhome.com/rent?pg=11\n",
      "Sleeping\n",
      "Now scraping https://speedhome.com/rent?pg=12\n",
      "Sleeping\n",
      "Now scraping https://speedhome.com/rent?pg=13\n",
      "Sleeping\n",
      "Now scraping https://speedhome.com/rent?pg=14\n",
      "Sleeping\n",
      "Now scraping https://speedhome.com/rent?pg=15\n",
      "Sleeping\n",
      "Now scraping https://speedhome.com/rent?pg=16\n",
      "Sleeping\n",
      "Now scraping https://speedhome.com/rent?pg=17\n",
      "Sleeping\n",
      "Now scraping https://speedhome.com/rent?pg=18\n",
      "Sleeping\n",
      "Now scraping https://speedhome.com/rent?pg=19\n",
      "Sleeping\n",
      "Now scraping https://speedhome.com/rent?pg=20\n",
      "Sleeping\n",
      "Now scraping https://speedhome.com/rent?pg=21\n",
      "Sleeping\n",
      "Now scraping https://speedhome.com/rent?pg=22\n",
      "Sleeping\n",
      "Now scraping https://speedhome.com/rent?pg=23\n",
      "Sleeping\n",
      "Now scraping https://speedhome.com/rent?pg=24\n",
      "Sleeping\n",
      "Now scraping https://speedhome.com/rent?pg=25\n",
      "Sleeping\n",
      "Now scraping https://speedhome.com/rent?pg=26\n",
      "Sleeping\n",
      "Now scraping https://speedhome.com/rent?pg=27\n",
      "Sleeping\n",
      "Now scraping https://speedhome.com/rent?pg=28\n",
      "Sleeping\n",
      "Now scraping https://speedhome.com/rent?pg=29\n",
      "Sleeping\n",
      "Now scraping https://speedhome.com/rent?pg=30\n",
      "Sleeping\n",
      "Now scraping https://speedhome.com/rent?pg=31\n",
      "Sleeping\n",
      "Now scraping https://speedhome.com/rent?pg=32\n",
      "Sleeping\n",
      "Now scraping https://speedhome.com/rent?pg=33\n",
      "Sleeping\n",
      "Now scraping https://speedhome.com/rent?pg=34\n",
      "Sleeping\n",
      "Now scraping https://speedhome.com/rent?pg=35\n",
      "Sleeping\n",
      "Now scraping https://speedhome.com/rent?pg=36\n",
      "Sleeping\n",
      "Now scraping https://speedhome.com/rent?pg=37\n",
      "Sleeping\n",
      "Now scraping https://speedhome.com/rent?pg=38\n",
      "Sleeping\n",
      "Now scraping https://speedhome.com/rent?pg=39\n",
      "Sleeping\n",
      "Now scraping https://speedhome.com/rent?pg=40\n",
      "Sleeping\n",
      "Now scraping https://speedhome.com/rent?pg=41\n",
      "Sleeping\n",
      "Now scraping https://speedhome.com/rent?pg=42\n",
      "Sleeping\n",
      "Now scraping https://speedhome.com/rent?pg=43\n",
      "Sleeping\n",
      "Now scraping https://speedhome.com/rent?pg=44\n",
      "Sleeping\n",
      "Now scraping https://speedhome.com/rent?pg=45\n",
      "Sleeping\n",
      "Now scraping https://speedhome.com/rent?pg=46\n",
      "Sleeping\n",
      "Now scraping https://speedhome.com/rent?pg=47\n",
      "Sleeping\n",
      "Now scraping https://speedhome.com/rent?pg=48\n",
      "Sleeping\n",
      "Now scraping https://speedhome.com/rent?pg=49\n",
      "Sleeping\n",
      "Now scraping https://speedhome.com/rent?pg=50\n",
      "Sleeping\n",
      "Now scraping https://speedhome.com/rent?pg=51\n",
      "Sleeping\n",
      "Now scraping https://speedhome.com/rent?pg=52\n",
      "Sleeping\n",
      "Now scraping https://speedhome.com/rent?pg=53\n",
      "Sleeping\n",
      "Now scraping https://speedhome.com/rent?pg=54\n",
      "Sleeping\n",
      "Now scraping https://speedhome.com/rent?pg=55\n",
      "Sleeping\n",
      "Now scraping https://speedhome.com/rent?pg=56\n",
      "Sleeping\n",
      "Now scraping https://speedhome.com/rent?pg=57\n",
      "Sleeping\n",
      "Now scraping https://speedhome.com/rent?pg=58\n",
      "Sleeping\n",
      "Now scraping https://speedhome.com/rent?pg=59\n",
      "Sleeping\n",
      "Now scraping https://speedhome.com/rent?pg=60\n",
      "Sleeping\n",
      "Now scraping https://speedhome.com/rent?pg=61\n",
      "Sleeping\n",
      "Now scraping https://speedhome.com/rent?pg=62\n",
      "Sleeping\n",
      "Now scraping https://speedhome.com/rent?pg=63\n",
      "Sleeping\n",
      "Now scraping https://speedhome.com/rent?pg=64\n",
      "Sleeping\n",
      "Now scraping https://speedhome.com/rent?pg=65\n",
      "Sleeping\n",
      "Now scraping https://speedhome.com/rent?pg=66\n",
      "Sleeping\n",
      "Now scraping https://speedhome.com/rent?pg=67\n",
      "Sleeping\n",
      "Now scraping https://speedhome.com/rent?pg=68\n",
      "Sleeping\n",
      "Now scraping https://speedhome.com/rent?pg=69\n",
      "Sleeping\n",
      "Now scraping https://speedhome.com/rent?pg=70\n",
      "Sleeping\n",
      "Now scraping https://speedhome.com/rent?pg=71\n",
      "Sleeping\n",
      "Now scraping https://speedhome.com/rent?pg=72\n",
      "Sleeping\n",
      "Now scraping https://speedhome.com/rent?pg=73\n",
      "Sleeping\n",
      "Now scraping https://speedhome.com/rent?pg=74\n",
      "Sleeping\n",
      "Now scraping https://speedhome.com/rent?pg=75\n",
      "Sleeping\n",
      "Now scraping https://speedhome.com/rent?pg=76\n",
      "Sleeping\n",
      "Now scraping https://speedhome.com/rent?pg=77\n",
      "Sleeping\n",
      "Now scraping https://speedhome.com/rent?pg=78\n",
      "Sleeping\n",
      "Now scraping https://speedhome.com/rent?pg=79\n",
      "Sleeping\n"
     ]
    }
   ],
   "source": [
    "rental = []\n",
    "url = \"/rent?pg=1\"\n",
    "\n",
    "while url:\n",
    "    res = requests.get(f\"{BASE_URL}{url}\")\n",
    "    print(f\"Now scraping {BASE_URL}{url}\")\n",
    "    soup = BeautifulSoup(res.text, \"html.parser\")\n",
    "    rent = soup.find_all(class_=\"pro-col pro-grid col-xs-12 col-sm-4\")\n",
    "\n",
    "    for home in rent:\n",
    "        rental.append({\n",
    "            \"name\":home.find(class_=\"pro-title\").get_text(),\n",
    "            \"price\":home.find(class_=\"price\").get_text(),\n",
    "            \"features\":home.find(class_=\"features-sub\").get_text(\",\", strip=True).split(\",\"),\n",
    "            \"facilities\":[i[0] + \" \" + i[1] for i in list(zip(home.find(class_=\"facilities\").get_text(\",\", strip=True).split(\",\"), [i[\"src\"][16:-4] for i in home.find(class_=\"facilities\").find_all(\"img\")]))],\n",
    "\n",
    "        })\n",
    "#     break\n",
    "    next = soup.find(class_ = \"next\")\n",
    "    url = next[\"href\"] if next else None\n",
    "    print(\"Sleeping\")\n",
    "    sleep(randint(10,60))    "
   ]
  },
  {
   "cell_type": "code",
   "execution_count": 264,
   "metadata": {},
   "outputs": [],
   "source": [
    "import pandas as pd"
   ]
  },
  {
   "cell_type": "code",
   "execution_count": 265,
   "metadata": {},
   "outputs": [],
   "source": [
    "df = pd.DataFrame(rental)"
   ]
  },
  {
   "cell_type": "code",
   "execution_count": 266,
   "metadata": {},
   "outputs": [
    {
     "data": {
      "text/html": [
       "<div>\n",
       "<style scoped>\n",
       "    .dataframe tbody tr th:only-of-type {\n",
       "        vertical-align: middle;\n",
       "    }\n",
       "\n",
       "    .dataframe tbody tr th {\n",
       "        vertical-align: top;\n",
       "    }\n",
       "\n",
       "    .dataframe thead th {\n",
       "        text-align: right;\n",
       "    }\n",
       "</style>\n",
       "<table border=\"1\" class=\"dataframe\">\n",
       "  <thead>\n",
       "    <tr style=\"text-align: right;\">\n",
       "      <th></th>\n",
       "      <th>facilities</th>\n",
       "      <th>features</th>\n",
       "      <th>name</th>\n",
       "      <th>price</th>\n",
       "    </tr>\n",
       "  </thead>\n",
       "  <tbody>\n",
       "    <tr>\n",
       "      <th>0</th>\n",
       "      <td>[2 bed, 2 bath, 1 parking]</td>\n",
       "      <td>[864 sqft, High-Rise, Fully furnished]</td>\n",
       "      <td>Regalia @ Jalan Sultan Ismail, Kuala Lumpur</td>\n",
       "      <td>RM 2,800</td>\n",
       "    </tr>\n",
       "    <tr>\n",
       "      <th>1</th>\n",
       "      <td>[3 bed, 2 bath, 2 parking]</td>\n",
       "      <td>[1095 sqft, High-Rise, Fully furnished]</td>\n",
       "      <td>Puncak Prima Condo, Sri Hartamas, Kuala Lumpur</td>\n",
       "      <td>RM 2,300</td>\n",
       "    </tr>\n",
       "    <tr>\n",
       "      <th>2</th>\n",
       "      <td>[3 bed, 2 bath, 1 parking]</td>\n",
       "      <td>[1800 sqft, High-Rise, Partially furnished]</td>\n",
       "      <td>Apartment Unit for Rent</td>\n",
       "      <td>RM 2,000</td>\n",
       "    </tr>\n",
       "    <tr>\n",
       "      <th>3</th>\n",
       "      <td>[Shared bath, 1 parking]</td>\n",
       "      <td>[Master, Room, Partially furnished]</td>\n",
       "      <td>Pandan Jaya Flat, Kuala Lumpur</td>\n",
       "      <td>RM 250</td>\n",
       "    </tr>\n",
       "    <tr>\n",
       "      <th>4</th>\n",
       "      <td>[3 bed, 2 bath, 1 parking]</td>\n",
       "      <td>[1080 sqft, High-Rise, Fully furnished]</td>\n",
       "      <td>putra majestik, jalan ipoh</td>\n",
       "      <td>RM 1,800</td>\n",
       "    </tr>\n",
       "  </tbody>\n",
       "</table>\n",
       "</div>"
      ],
      "text/plain": [
       "                   facilities                                     features  \\\n",
       "0  [2 bed, 2 bath, 1 parking]       [864 sqft, High-Rise, Fully furnished]   \n",
       "1  [3 bed, 2 bath, 2 parking]      [1095 sqft, High-Rise, Fully furnished]   \n",
       "2  [3 bed, 2 bath, 1 parking]  [1800 sqft, High-Rise, Partially furnished]   \n",
       "3    [Shared bath, 1 parking]          [Master, Room, Partially furnished]   \n",
       "4  [3 bed, 2 bath, 1 parking]      [1080 sqft, High-Rise, Fully furnished]   \n",
       "\n",
       "                                             name     price  \n",
       "0     Regalia @ Jalan Sultan Ismail, Kuala Lumpur  RM 2,800  \n",
       "1  Puncak Prima Condo, Sri Hartamas, Kuala Lumpur  RM 2,300  \n",
       "2                         Apartment Unit for Rent  RM 2,000  \n",
       "3                  Pandan Jaya Flat, Kuala Lumpur    RM 250  \n",
       "4                      putra majestik, jalan ipoh  RM 1,800  "
      ]
     },
     "execution_count": 266,
     "metadata": {},
     "output_type": "execute_result"
    }
   ],
   "source": [
    "df.head()"
   ]
  },
  {
   "cell_type": "code",
   "execution_count": 268,
   "metadata": {},
   "outputs": [
    {
     "data": {
      "text/plain": [
       "Index(['facilities', 'features', 'name', 'price'], dtype='object')"
      ]
     },
     "execution_count": 268,
     "metadata": {},
     "output_type": "execute_result"
    }
   ],
   "source": [
    "df.columns"
   ]
  },
  {
   "cell_type": "code",
   "execution_count": 269,
   "metadata": {},
   "outputs": [],
   "source": [
    "df = df[[\"name\", \"price\", \"features\", \"facilities\"]]"
   ]
  },
  {
   "cell_type": "code",
   "execution_count": 270,
   "metadata": {},
   "outputs": [
    {
     "data": {
      "text/html": [
       "<div>\n",
       "<style scoped>\n",
       "    .dataframe tbody tr th:only-of-type {\n",
       "        vertical-align: middle;\n",
       "    }\n",
       "\n",
       "    .dataframe tbody tr th {\n",
       "        vertical-align: top;\n",
       "    }\n",
       "\n",
       "    .dataframe thead th {\n",
       "        text-align: right;\n",
       "    }\n",
       "</style>\n",
       "<table border=\"1\" class=\"dataframe\">\n",
       "  <thead>\n",
       "    <tr style=\"text-align: right;\">\n",
       "      <th></th>\n",
       "      <th>name</th>\n",
       "      <th>price</th>\n",
       "      <th>features</th>\n",
       "      <th>facilities</th>\n",
       "    </tr>\n",
       "  </thead>\n",
       "  <tbody>\n",
       "    <tr>\n",
       "      <th>0</th>\n",
       "      <td>Regalia @ Jalan Sultan Ismail, Kuala Lumpur</td>\n",
       "      <td>RM 2,800</td>\n",
       "      <td>[864 sqft, High-Rise, Fully furnished]</td>\n",
       "      <td>[2 bed, 2 bath, 1 parking]</td>\n",
       "    </tr>\n",
       "    <tr>\n",
       "      <th>1</th>\n",
       "      <td>Puncak Prima Condo, Sri Hartamas, Kuala Lumpur</td>\n",
       "      <td>RM 2,300</td>\n",
       "      <td>[1095 sqft, High-Rise, Fully furnished]</td>\n",
       "      <td>[3 bed, 2 bath, 2 parking]</td>\n",
       "    </tr>\n",
       "    <tr>\n",
       "      <th>2</th>\n",
       "      <td>Apartment Unit for Rent</td>\n",
       "      <td>RM 2,000</td>\n",
       "      <td>[1800 sqft, High-Rise, Partially furnished]</td>\n",
       "      <td>[3 bed, 2 bath, 1 parking]</td>\n",
       "    </tr>\n",
       "    <tr>\n",
       "      <th>3</th>\n",
       "      <td>Pandan Jaya Flat, Kuala Lumpur</td>\n",
       "      <td>RM 250</td>\n",
       "      <td>[Master, Room, Partially furnished]</td>\n",
       "      <td>[Shared bath, 1 parking]</td>\n",
       "    </tr>\n",
       "    <tr>\n",
       "      <th>4</th>\n",
       "      <td>putra majestik, jalan ipoh</td>\n",
       "      <td>RM 1,800</td>\n",
       "      <td>[1080 sqft, High-Rise, Fully furnished]</td>\n",
       "      <td>[3 bed, 2 bath, 1 parking]</td>\n",
       "    </tr>\n",
       "  </tbody>\n",
       "</table>\n",
       "</div>"
      ],
      "text/plain": [
       "                                             name     price  \\\n",
       "0     Regalia @ Jalan Sultan Ismail, Kuala Lumpur  RM 2,800   \n",
       "1  Puncak Prima Condo, Sri Hartamas, Kuala Lumpur  RM 2,300   \n",
       "2                         Apartment Unit for Rent  RM 2,000   \n",
       "3                  Pandan Jaya Flat, Kuala Lumpur    RM 250   \n",
       "4                      putra majestik, jalan ipoh  RM 1,800   \n",
       "\n",
       "                                      features                  facilities  \n",
       "0       [864 sqft, High-Rise, Fully furnished]  [2 bed, 2 bath, 1 parking]  \n",
       "1      [1095 sqft, High-Rise, Fully furnished]  [3 bed, 2 bath, 2 parking]  \n",
       "2  [1800 sqft, High-Rise, Partially furnished]  [3 bed, 2 bath, 1 parking]  \n",
       "3          [Master, Room, Partially furnished]    [Shared bath, 1 parking]  \n",
       "4      [1080 sqft, High-Rise, Fully furnished]  [3 bed, 2 bath, 1 parking]  "
      ]
     },
     "execution_count": 270,
     "metadata": {},
     "output_type": "execute_result"
    }
   ],
   "source": [
    "df.head()"
   ]
  },
  {
   "cell_type": "code",
   "execution_count": 273,
   "metadata": {},
   "outputs": [],
   "source": [
    "df.to_csv(\"data/speedhome.csv\", encoding='utf-8', index=False)"
   ]
  },
  {
   "cell_type": "code",
   "execution_count": 274,
   "metadata": {},
   "outputs": [
    {
     "name": "stdout",
     "output_type": "stream",
     "text": [
      "<class 'pandas.core.frame.DataFrame'>\n",
      "RangeIndex: 1643 entries, 0 to 1642\n",
      "Data columns (total 4 columns):\n",
      "name          1643 non-null object\n",
      "price         1643 non-null object\n",
      "features      1643 non-null object\n",
      "facilities    1643 non-null object\n",
      "dtypes: object(4)\n",
      "memory usage: 51.4+ KB\n"
     ]
    }
   ],
   "source": [
    "df.info()"
   ]
  },
  {
   "cell_type": "code",
   "execution_count": 246,
   "metadata": {},
   "outputs": [
    {
     "data": {
      "text/plain": [
       "[{'name': 'Regalia @ Jalan Sultan Ismail, Kuala Lumpur',\n",
       "  'price': 'RM 2,800',\n",
       "  'features': ['864 sqft', 'High-Rise', 'Fully furnished'],\n",
       "  'facilities': ['2 bed', '2 bath', '1 parking']},\n",
       " {'name': 'Puncak Prima Condo, Sri Hartamas, Kuala Lumpur',\n",
       "  'price': 'RM 2,300',\n",
       "  'features': ['1095 sqft', 'High-Rise', 'Fully furnished'],\n",
       "  'facilities': ['3 bed', '2 bath', '2 parking']},\n",
       " {'name': 'Apartment Unit for Rent',\n",
       "  'price': 'RM 2,000',\n",
       "  'features': ['1800 sqft', 'High-Rise', 'Partially furnished'],\n",
       "  'facilities': ['3 bed', '2 bath', '1 parking']},\n",
       " {'name': 'Pandan Jaya Flat, Kuala Lumpur',\n",
       "  'price': 'RM 250',\n",
       "  'features': ['Master', 'Room', 'Partially furnished'],\n",
       "  'facilities': ['Shared bath', '1 parking']},\n",
       " {'name': 'putra majestik, jalan ipoh',\n",
       "  'price': 'RM 1,800',\n",
       "  'features': ['1080 sqft', 'High-Rise', 'Fully furnished'],\n",
       "  'facilities': ['3 bed', '2 bath', '1 parking']},\n",
       " {'name': 'titiwangsa sentral condominium',\n",
       "  'price': 'RM 700',\n",
       "  'features': ['Middle', 'Room', 'Fully furnished'],\n",
       "  'facilities': ['Shared bath', '0 parking']},\n",
       " {'name': 'KL Traders Square, Kuala Lumpur',\n",
       "  'price': 'RM 400',\n",
       "  'features': ['950 sqft', 'High-Rise', 'Fully furnished'],\n",
       "  'facilities': ['4 bed', '2 bath', '0 parking']},\n",
       " {'name': 'THE MARC RESIDENCE KLCC SUITES',\n",
       "  'price': 'RM 12,000',\n",
       "  'features': ['2902 sqft', 'High-Rise', 'Fully furnished'],\n",
       "  'facilities': ['4 bed', '4 bath', '1 parking']},\n",
       " {'name': 'The Saffron, Kuala Lumpur',\n",
       "  'price': 'RM 2,300',\n",
       "  'features': ['1200 sqft', 'High-Rise', 'Partially furnished'],\n",
       "  'facilities': ['3 bed', '2 bath', '1 parking']},\n",
       " {'name': 'The Forum Kuala Lumpur',\n",
       "  'price': 'RM 2,800',\n",
       "  'features': ['1206 sqft', 'High-Rise', 'Fully furnished'],\n",
       "  'facilities': ['2 bed', '2 bath', '1 parking']},\n",
       " {'name': 'The Vyne',\n",
       "  'price': 'RM 2,100',\n",
       "  'features': ['1106 sqft', 'High-Rise', 'Partially furnished'],\n",
       "  'facilities': ['3 bed', '2 bath', '2 parking']},\n",
       " {'name': 'bintang fairlane residence, kl city centre',\n",
       "  'price': 'RM 3,000',\n",
       "  'features': ['1000 sqft', 'High-Rise', 'Fully furnished'],\n",
       "  'facilities': ['1 bed', '1 bath', '1 parking']},\n",
       " {'name': 'The Troika Luxury Apartment',\n",
       "  'price': 'RM 8,997',\n",
       "  'features': ['1930 sqft', 'High-Rise', 'Fully furnished'],\n",
       "  'facilities': ['2 bed', '3 bath', '2 parking']},\n",
       " {'name': 'The Saffron Condo, Kuala Lumpur ROOM',\n",
       "  'price': 'RM 1,200',\n",
       "  'features': ['Middle', 'Room', 'Fully furnished'],\n",
       "  'facilities': ['Shared bath', '0 parking']},\n",
       " {'name': 'Menara Arina Uniti',\n",
       "  'price': 'RM 2,250',\n",
       "  'features': ['760 sqft', 'High-Rise', 'Basic furnishing'],\n",
       "  'facilities': ['0 bed', '0 bath', '1 parking']},\n",
       " {'name': 'Genting Court Condominium',\n",
       "  'price': 'RM 300',\n",
       "  'features': ['Single', 'Room', 'Fully furnished'],\n",
       "  'facilities': ['Shared bath', '0 parking']},\n",
       " {'name': 'Regalia @ Jalan Sultan Ismail, Kuala Lumpur',\n",
       "  'price': 'RM 2,800',\n",
       "  'features': ['864 sqft', 'High-Rise', 'Fully furnished'],\n",
       "  'facilities': ['2 bed', '2 bath', '1 parking']},\n",
       " {'name': 'Kuchai Avenue Serviced Apartments, Kuala Lumpur',\n",
       "  'price': 'RM 1,700',\n",
       "  'features': ['935 sqft', 'High-Rise', 'Fully furnished'],\n",
       "  'facilities': ['3 bed', '2 bath', '1 parking']},\n",
       " {'name': 'Fraser Place',\n",
       "  'price': 'RM 3,000',\n",
       "  'features': ['436 sqft', 'High-Rise', 'Fully furnished'],\n",
       "  'facilities': ['1 bed', '1 bath', '0 parking']},\n",
       " {'name': 'Angkasa Impian 2, KL City Centre',\n",
       "  'price': 'RM 3,250',\n",
       "  'features': ['1301 sqft', 'High-Rise', 'Basic furnishing'],\n",
       "  'facilities': ['4 bed', '3 bath', '2 parking']},\n",
       " {'name': 'Brunsfield Embassyview Condosuite',\n",
       "  'price': 'RM 5,000',\n",
       "  'features': ['1632 sqft', 'High-Rise', 'Fully furnished'],\n",
       "  'facilities': ['3 bed', '4 bath', '2 parking']}]"
      ]
     },
     "execution_count": 246,
     "metadata": {},
     "output_type": "execute_result"
    }
   ],
   "source": [
    "rental"
   ]
  },
  {
   "cell_type": "code",
   "execution_count": 227,
   "metadata": {},
   "outputs": [
    {
     "data": {
      "text/plain": [
       "[('2', 'bed'), ('2', 'bath'), ('1', 'parking')]"
      ]
     },
     "execution_count": 227,
     "metadata": {},
     "output_type": "execute_result"
    }
   ],
   "source": [
    "list(zip(rental[0][\"facilities\"], [i[16:-4] for i in rental[0][\"facilities2\"]]))"
   ]
  },
  {
   "cell_type": "code",
   "execution_count": 232,
   "metadata": {},
   "outputs": [
    {
     "data": {
      "text/plain": [
       "['2 bed', '2 bath', '1 parking']"
      ]
     },
     "execution_count": 232,
     "metadata": {},
     "output_type": "execute_result"
    }
   ],
   "source": [
    "[i[0]+ \" \"+ i[1] for i in list(zip(rental[0][\"facilities\"], [i[16:-4] for i in rental[0][\"facilities2\"]]))]"
   ]
  },
  {
   "cell_type": "code",
   "execution_count": 224,
   "metadata": {},
   "outputs": [
    {
     "data": {
      "text/plain": [
       "['bed', 'bath', 'parking']"
      ]
     },
     "execution_count": 224,
     "metadata": {},
     "output_type": "execute_result"
    }
   ],
   "source": [
    "[i[16:-4] for i in rental[0][\"facilities2\"]]"
   ]
  },
  {
   "cell_type": "code",
   "execution_count": 129,
   "metadata": {},
   "outputs": [
    {
     "data": {
      "text/plain": [
       "<ul class=\"facilities\">\n",
       "<li>\n",
       "<div class=\"num\">3</div>\n",
       "<div class=\"ico\">\n",
       "<img alt=\"\" src=\"/assets/img/ico-bed.svg\" width=\"29\"/>\n",
       "</div>\n",
       "</li>\n",
       "<li>\n",
       "<div class=\"num\">4</div>\n",
       "<div class=\"ico\">\n",
       "<img alt=\"\" src=\"/assets/img/ico-bath.svg\" width=\"21\"/>\n",
       "</div>\n",
       "</li>\n",
       "<li>\n",
       "<div class=\"num\">2</div>\n",
       "<div class=\"ico\">\n",
       "<img alt=\"\" src=\"/assets/img/ico-parking.svg\" width=\"22\"/>\n",
       "</div>\n",
       "</li>\n",
       "</ul>"
      ]
     },
     "execution_count": 129,
     "metadata": {},
     "output_type": "execute_result"
    }
   ],
   "source": [
    "home.find(class_=\"facilities\")"
   ]
  },
  {
   "cell_type": "code",
   "execution_count": 147,
   "metadata": {
    "scrolled": false
   },
   "outputs": [
    {
     "data": {
      "text/plain": [
       "['3', '2', '2']"
      ]
     },
     "execution_count": 147,
     "metadata": {},
     "output_type": "execute_result"
    }
   ],
   "source": [
    "rental[10][\"facilities\"]"
   ]
  },
  {
   "cell_type": "code",
   "execution_count": 262,
   "metadata": {},
   "outputs": [
    {
     "name": "stdout",
     "output_type": "stream",
     "text": [
      "Sleeping for None\n"
     ]
    }
   ],
   "source": [
    "t = sleep(randint(10,60))\n",
    "print(f\"Sleeping for {t}\")\n",
    "t"
   ]
  },
  {
   "cell_type": "code",
   "execution_count": null,
   "metadata": {},
   "outputs": [],
   "source": []
  }
 ],
 "metadata": {
  "kernelspec": {
   "display_name": "Python 3",
   "language": "python",
   "name": "python3"
  },
  "language_info": {
   "codemirror_mode": {
    "name": "ipython",
    "version": 3
   },
   "file_extension": ".py",
   "mimetype": "text/x-python",
   "name": "python",
   "nbconvert_exporter": "python",
   "pygments_lexer": "ipython3",
   "version": "3.7.3"
  }
 },
 "nbformat": 4,
 "nbformat_minor": 2
}
