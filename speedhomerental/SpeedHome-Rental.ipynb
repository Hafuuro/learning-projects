{
 "cells": [
  {
   "cell_type": "markdown",
   "metadata": {},
   "source": [
    "# Speedhome Rental Analysis"
   ]
  },
  {
   "cell_type": "markdown",
   "metadata": {},
   "source": [
    "The data gathered is from the [SpeedHome-Scraping](https://github.com/ahmadhafifihamdan/learning-projects/blob/master/speedhomerental/SpeedHome-Scraping.ipynb) as of 23/07/2019."
   ]
  },
  {
   "cell_type": "markdown",
   "metadata": {},
   "source": [
    "## Modules for analysis"
   ]
  },
  {
   "cell_type": "code",
   "execution_count": 1,
   "metadata": {},
   "outputs": [],
   "source": [
    "import pandas as pd\n",
    "import seaborn as sns"
   ]
  },
  {
   "cell_type": "code",
   "execution_count": 2,
   "metadata": {},
   "outputs": [],
   "source": [
    "df = pd.read_csv(\"data/speedhome2.csv\")"
   ]
  },
  {
   "cell_type": "code",
   "execution_count": 3,
   "metadata": {},
   "outputs": [
    {
     "data": {
      "text/html": [
       "<div>\n",
       "<style scoped>\n",
       "    .dataframe tbody tr th:only-of-type {\n",
       "        vertical-align: middle;\n",
       "    }\n",
       "\n",
       "    .dataframe tbody tr th {\n",
       "        vertical-align: top;\n",
       "    }\n",
       "\n",
       "    .dataframe thead th {\n",
       "        text-align: right;\n",
       "    }\n",
       "</style>\n",
       "<table border=\"1\" class=\"dataframe\">\n",
       "  <thead>\n",
       "    <tr style=\"text-align: right;\">\n",
       "      <th></th>\n",
       "      <th>name</th>\n",
       "      <th>price</th>\n",
       "      <th>sqft</th>\n",
       "      <th>high_rise</th>\n",
       "      <th>furnished</th>\n",
       "      <th>bath</th>\n",
       "      <th>bed</th>\n",
       "      <th>parking</th>\n",
       "    </tr>\n",
       "  </thead>\n",
       "  <tbody>\n",
       "    <tr>\n",
       "      <th>0</th>\n",
       "      <td>Regalia @ Jalan Sultan Ismail, Kuala Lumpur</td>\n",
       "      <td>RM 2,800</td>\n",
       "      <td>864 sqft</td>\n",
       "      <td>High-Rise</td>\n",
       "      <td>Fully furnished</td>\n",
       "      <td>2 bath</td>\n",
       "      <td>2 bed</td>\n",
       "      <td>1 parking</td>\n",
       "    </tr>\n",
       "    <tr>\n",
       "      <th>1</th>\n",
       "      <td>Puncak Prima Condo, Sri Hartamas, Kuala Lumpur</td>\n",
       "      <td>RM 2,300</td>\n",
       "      <td>1095 sqft</td>\n",
       "      <td>High-Rise</td>\n",
       "      <td>Fully furnished</td>\n",
       "      <td>2 bath</td>\n",
       "      <td>3 bed</td>\n",
       "      <td>2 parking</td>\n",
       "    </tr>\n",
       "    <tr>\n",
       "      <th>2</th>\n",
       "      <td>The Forum Kuala Lumpur</td>\n",
       "      <td>RM 2,800</td>\n",
       "      <td>1206 sqft</td>\n",
       "      <td>High-Rise</td>\n",
       "      <td>Fully furnished</td>\n",
       "      <td>2 bath</td>\n",
       "      <td>2 bed</td>\n",
       "      <td>1 parking</td>\n",
       "    </tr>\n",
       "    <tr>\n",
       "      <th>3</th>\n",
       "      <td>Regalia @ Jalan Sultan Ismail, Kuala Lumpur</td>\n",
       "      <td>RM 2,800</td>\n",
       "      <td>864 sqft</td>\n",
       "      <td>High-Rise</td>\n",
       "      <td>Fully furnished</td>\n",
       "      <td>2 bath</td>\n",
       "      <td>2 bed</td>\n",
       "      <td>1 parking</td>\n",
       "    </tr>\n",
       "    <tr>\n",
       "      <th>4</th>\n",
       "      <td>Blok C4 Seksyen 10 Wangsa Maju Kuala Lumpur</td>\n",
       "      <td>RM 850</td>\n",
       "      <td>500 sqft</td>\n",
       "      <td>High-Rise</td>\n",
       "      <td>Unfurnished</td>\n",
       "      <td>2 bath</td>\n",
       "      <td>2 bed</td>\n",
       "      <td>1 parking</td>\n",
       "    </tr>\n",
       "  </tbody>\n",
       "</table>\n",
       "</div>"
      ],
      "text/plain": [
       "                                             name     price       sqft  \\\n",
       "0     Regalia @ Jalan Sultan Ismail, Kuala Lumpur  RM 2,800   864 sqft   \n",
       "1  Puncak Prima Condo, Sri Hartamas, Kuala Lumpur  RM 2,300  1095 sqft   \n",
       "2                          The Forum Kuala Lumpur  RM 2,800  1206 sqft   \n",
       "3     Regalia @ Jalan Sultan Ismail, Kuala Lumpur  RM 2,800   864 sqft   \n",
       "4     Blok C4 Seksyen 10 Wangsa Maju Kuala Lumpur    RM 850   500 sqft   \n",
       "\n",
       "   high_rise        furnished    bath    bed    parking  \n",
       "0  High-Rise  Fully furnished  2 bath  2 bed  1 parking  \n",
       "1  High-Rise  Fully furnished  2 bath  3 bed  2 parking  \n",
       "2  High-Rise  Fully furnished  2 bath  2 bed  1 parking  \n",
       "3  High-Rise  Fully furnished  2 bath  2 bed  1 parking  \n",
       "4  High-Rise      Unfurnished  2 bath  2 bed  1 parking  "
      ]
     },
     "execution_count": 3,
     "metadata": {},
     "output_type": "execute_result"
    }
   ],
   "source": [
    "df.head()"
   ]
  },
  {
   "cell_type": "code",
   "execution_count": 4,
   "metadata": {},
   "outputs": [
    {
     "name": "stdout",
     "output_type": "stream",
     "text": [
      "<class 'pandas.core.frame.DataFrame'>\n",
      "RangeIndex: 435 entries, 0 to 434\n",
      "Data columns (total 8 columns):\n",
      "name         435 non-null object\n",
      "price        435 non-null object\n",
      "sqft         435 non-null object\n",
      "high_rise    435 non-null object\n",
      "furnished    435 non-null object\n",
      "bath         435 non-null object\n",
      "bed          435 non-null object\n",
      "parking      435 non-null object\n",
      "dtypes: object(8)\n",
      "memory usage: 27.3+ KB\n"
     ]
    }
   ],
   "source": [
    "df.info()"
   ]
  },
  {
   "cell_type": "markdown",
   "metadata": {},
   "source": [
    "The current dataframe store `price`, `sqft`, `bath`, `bed`, and `parking` as object type. Let's change these to integer type."
   ]
  },
  {
   "cell_type": "code",
   "execution_count": 5,
   "metadata": {},
   "outputs": [],
   "source": [
    "df[\"bath\"] = pd.to_numeric([i[0] for i in df[\"bath\"]])\n",
    "df[\"bed\"] = pd.to_numeric([i[0] for i in df[\"bed\"]])\n",
    "df[\"parking\"] = pd.to_numeric([i[0] for i in df[\"parking\"]])\n",
    "df[\"sqft\"] = pd.to_numeric([i[:-5] for i in df[\"sqft\"]])\n",
    "df[\"price\"] = [i.replace(\"RM \", \"\") for i in df[\"price\"]]\n",
    "df[\"price\"] = pd.to_numeric([i.replace(\",\", \"\") for i in df[\"price\"]])"
   ]
  },
  {
   "cell_type": "code",
   "execution_count": 6,
   "metadata": {},
   "outputs": [
    {
     "name": "stdout",
     "output_type": "stream",
     "text": [
      "<class 'pandas.core.frame.DataFrame'>\n",
      "RangeIndex: 435 entries, 0 to 434\n",
      "Data columns (total 8 columns):\n",
      "name         435 non-null object\n",
      "price        435 non-null int64\n",
      "sqft         435 non-null int64\n",
      "high_rise    435 non-null object\n",
      "furnished    435 non-null object\n",
      "bath         435 non-null int64\n",
      "bed          435 non-null int64\n",
      "parking      435 non-null int64\n",
      "dtypes: int64(5), object(3)\n",
      "memory usage: 27.3+ KB\n"
     ]
    }
   ],
   "source": [
    "df.info()"
   ]
  },
  {
   "cell_type": "code",
   "execution_count": 7,
   "metadata": {},
   "outputs": [
    {
     "data": {
      "text/html": [
       "<div>\n",
       "<style scoped>\n",
       "    .dataframe tbody tr th:only-of-type {\n",
       "        vertical-align: middle;\n",
       "    }\n",
       "\n",
       "    .dataframe tbody tr th {\n",
       "        vertical-align: top;\n",
       "    }\n",
       "\n",
       "    .dataframe thead th {\n",
       "        text-align: right;\n",
       "    }\n",
       "</style>\n",
       "<table border=\"1\" class=\"dataframe\">\n",
       "  <thead>\n",
       "    <tr style=\"text-align: right;\">\n",
       "      <th></th>\n",
       "      <th>name</th>\n",
       "      <th>price</th>\n",
       "      <th>sqft</th>\n",
       "      <th>high_rise</th>\n",
       "      <th>furnished</th>\n",
       "      <th>bath</th>\n",
       "      <th>bed</th>\n",
       "      <th>parking</th>\n",
       "    </tr>\n",
       "  </thead>\n",
       "  <tbody>\n",
       "    <tr>\n",
       "      <th>0</th>\n",
       "      <td>Regalia @ Jalan Sultan Ismail, Kuala Lumpur</td>\n",
       "      <td>2800</td>\n",
       "      <td>864</td>\n",
       "      <td>High-Rise</td>\n",
       "      <td>Fully furnished</td>\n",
       "      <td>2</td>\n",
       "      <td>2</td>\n",
       "      <td>1</td>\n",
       "    </tr>\n",
       "    <tr>\n",
       "      <th>1</th>\n",
       "      <td>Puncak Prima Condo, Sri Hartamas, Kuala Lumpur</td>\n",
       "      <td>2300</td>\n",
       "      <td>1095</td>\n",
       "      <td>High-Rise</td>\n",
       "      <td>Fully furnished</td>\n",
       "      <td>2</td>\n",
       "      <td>3</td>\n",
       "      <td>2</td>\n",
       "    </tr>\n",
       "    <tr>\n",
       "      <th>2</th>\n",
       "      <td>The Forum Kuala Lumpur</td>\n",
       "      <td>2800</td>\n",
       "      <td>1206</td>\n",
       "      <td>High-Rise</td>\n",
       "      <td>Fully furnished</td>\n",
       "      <td>2</td>\n",
       "      <td>2</td>\n",
       "      <td>1</td>\n",
       "    </tr>\n",
       "    <tr>\n",
       "      <th>3</th>\n",
       "      <td>Regalia @ Jalan Sultan Ismail, Kuala Lumpur</td>\n",
       "      <td>2800</td>\n",
       "      <td>864</td>\n",
       "      <td>High-Rise</td>\n",
       "      <td>Fully furnished</td>\n",
       "      <td>2</td>\n",
       "      <td>2</td>\n",
       "      <td>1</td>\n",
       "    </tr>\n",
       "    <tr>\n",
       "      <th>4</th>\n",
       "      <td>Blok C4 Seksyen 10 Wangsa Maju Kuala Lumpur</td>\n",
       "      <td>850</td>\n",
       "      <td>500</td>\n",
       "      <td>High-Rise</td>\n",
       "      <td>Unfurnished</td>\n",
       "      <td>2</td>\n",
       "      <td>2</td>\n",
       "      <td>1</td>\n",
       "    </tr>\n",
       "  </tbody>\n",
       "</table>\n",
       "</div>"
      ],
      "text/plain": [
       "                                             name  price  sqft  high_rise  \\\n",
       "0     Regalia @ Jalan Sultan Ismail, Kuala Lumpur   2800   864  High-Rise   \n",
       "1  Puncak Prima Condo, Sri Hartamas, Kuala Lumpur   2300  1095  High-Rise   \n",
       "2                          The Forum Kuala Lumpur   2800  1206  High-Rise   \n",
       "3     Regalia @ Jalan Sultan Ismail, Kuala Lumpur   2800   864  High-Rise   \n",
       "4     Blok C4 Seksyen 10 Wangsa Maju Kuala Lumpur    850   500  High-Rise   \n",
       "\n",
       "         furnished  bath  bed  parking  \n",
       "0  Fully furnished     2    2        1  \n",
       "1  Fully furnished     2    3        2  \n",
       "2  Fully furnished     2    2        1  \n",
       "3  Fully furnished     2    2        1  \n",
       "4      Unfurnished     2    2        1  "
      ]
     },
     "execution_count": 7,
     "metadata": {},
     "output_type": "execute_result"
    }
   ],
   "source": [
    "df.head()"
   ]
  },
  {
   "cell_type": "code",
   "execution_count": 8,
   "metadata": {},
   "outputs": [
    {
     "data": {
      "text/html": [
       "<div>\n",
       "<style scoped>\n",
       "    .dataframe tbody tr th:only-of-type {\n",
       "        vertical-align: middle;\n",
       "    }\n",
       "\n",
       "    .dataframe tbody tr th {\n",
       "        vertical-align: top;\n",
       "    }\n",
       "\n",
       "    .dataframe thead th {\n",
       "        text-align: right;\n",
       "    }\n",
       "</style>\n",
       "<table border=\"1\" class=\"dataframe\">\n",
       "  <thead>\n",
       "    <tr style=\"text-align: right;\">\n",
       "      <th></th>\n",
       "      <th>price</th>\n",
       "      <th>sqft</th>\n",
       "      <th>bath</th>\n",
       "      <th>bed</th>\n",
       "      <th>parking</th>\n",
       "    </tr>\n",
       "  </thead>\n",
       "  <tbody>\n",
       "    <tr>\n",
       "      <th>count</th>\n",
       "      <td>435.000000</td>\n",
       "      <td>435.000000</td>\n",
       "      <td>435.000000</td>\n",
       "      <td>435.000000</td>\n",
       "      <td>435.000000</td>\n",
       "    </tr>\n",
       "    <tr>\n",
       "      <th>mean</th>\n",
       "      <td>7234.291954</td>\n",
       "      <td>1088.645977</td>\n",
       "      <td>2.082759</td>\n",
       "      <td>2.441379</td>\n",
       "      <td>1.094253</td>\n",
       "    </tr>\n",
       "    <tr>\n",
       "      <th>std</th>\n",
       "      <td>56075.612506</td>\n",
       "      <td>814.344241</td>\n",
       "      <td>0.909525</td>\n",
       "      <td>1.037605</td>\n",
       "      <td>0.732925</td>\n",
       "    </tr>\n",
       "    <tr>\n",
       "      <th>min</th>\n",
       "      <td>250.000000</td>\n",
       "      <td>0.000000</td>\n",
       "      <td>0.000000</td>\n",
       "      <td>0.000000</td>\n",
       "      <td>0.000000</td>\n",
       "    </tr>\n",
       "    <tr>\n",
       "      <th>25%</th>\n",
       "      <td>1500.000000</td>\n",
       "      <td>757.500000</td>\n",
       "      <td>1.000000</td>\n",
       "      <td>2.000000</td>\n",
       "      <td>1.000000</td>\n",
       "    </tr>\n",
       "    <tr>\n",
       "      <th>50%</th>\n",
       "      <td>2000.000000</td>\n",
       "      <td>988.000000</td>\n",
       "      <td>2.000000</td>\n",
       "      <td>3.000000</td>\n",
       "      <td>1.000000</td>\n",
       "    </tr>\n",
       "    <tr>\n",
       "      <th>75%</th>\n",
       "      <td>2625.000000</td>\n",
       "      <td>1206.000000</td>\n",
       "      <td>3.000000</td>\n",
       "      <td>3.000000</td>\n",
       "      <td>2.000000</td>\n",
       "    </tr>\n",
       "    <tr>\n",
       "      <th>max</th>\n",
       "      <td>900000.000000</td>\n",
       "      <td>12435.000000</td>\n",
       "      <td>6.000000</td>\n",
       "      <td>6.000000</td>\n",
       "      <td>4.000000</td>\n",
       "    </tr>\n",
       "  </tbody>\n",
       "</table>\n",
       "</div>"
      ],
      "text/plain": [
       "               price          sqft        bath         bed     parking\n",
       "count     435.000000    435.000000  435.000000  435.000000  435.000000\n",
       "mean     7234.291954   1088.645977    2.082759    2.441379    1.094253\n",
       "std     56075.612506    814.344241    0.909525    1.037605    0.732925\n",
       "min       250.000000      0.000000    0.000000    0.000000    0.000000\n",
       "25%      1500.000000    757.500000    1.000000    2.000000    1.000000\n",
       "50%      2000.000000    988.000000    2.000000    3.000000    1.000000\n",
       "75%      2625.000000   1206.000000    3.000000    3.000000    2.000000\n",
       "max    900000.000000  12435.000000    6.000000    6.000000    4.000000"
      ]
     },
     "execution_count": 8,
     "metadata": {},
     "output_type": "execute_result"
    }
   ],
   "source": [
    "df.describe()"
   ]
  },
  {
   "cell_type": "code",
   "execution_count": 9,
   "metadata": {},
   "outputs": [
    {
     "data": {
      "text/plain": [
       "High-Rise    92.41\n",
       "Landed        7.59\n",
       "Name: high_rise, dtype: float64"
      ]
     },
     "execution_count": 9,
     "metadata": {},
     "output_type": "execute_result"
    }
   ],
   "source": [
    "# Check proportion of highrise unit and landed unit in dataset.\n",
    "round(df[\"high_rise\"].value_counts(normalize=True)*100,2)"
   ]
  },
  {
   "cell_type": "code",
   "execution_count": 10,
   "metadata": {},
   "outputs": [
    {
     "data": {
      "text/plain": [
       "Fully furnished        54.02\n",
       "Partially furnished    35.17\n",
       "Unfurnished            10.80\n",
       "Name: furnished, dtype: float64"
      ]
     },
     "execution_count": 10,
     "metadata": {},
     "output_type": "execute_result"
    }
   ],
   "source": [
    "# Check proportion of furnished unit in dataset.\n",
    "round(df[\"furnished\"].value_counts(normalize=True)*100,2)"
   ]
  },
  {
   "cell_type": "code",
   "execution_count": 11,
   "metadata": {},
   "outputs": [
    {
     "data": {
      "text/plain": [
       "2    45.98\n",
       "1    25.52\n",
       "3    20.46\n",
       "4     6.44\n",
       "0     0.92\n",
       "5     0.46\n",
       "6     0.23\n",
       "Name: bath, dtype: float64"
      ]
     },
     "execution_count": 11,
     "metadata": {},
     "output_type": "execute_result"
    }
   ],
   "source": [
    "# Check proportion of no of bathroom in dataset.\n",
    "round(df[\"bath\"].value_counts(normalize=True)*100,2)"
   ]
  },
  {
   "cell_type": "code",
   "execution_count": 12,
   "metadata": {},
   "outputs": [
    {
     "data": {
      "text/plain": [
       "3    44.83\n",
       "1    23.22\n",
       "2    19.08\n",
       "4    10.57\n",
       "0     1.15\n",
       "5     0.92\n",
       "6     0.23\n",
       "Name: bed, dtype: float64"
      ]
     },
     "execution_count": 12,
     "metadata": {},
     "output_type": "execute_result"
    }
   ],
   "source": [
    "# Check proportion of no of bedroom in dataset.\n",
    "round(df[\"bed\"].value_counts(normalize=True)*100,2)"
   ]
  },
  {
   "cell_type": "code",
   "execution_count": 13,
   "metadata": {},
   "outputs": [
    {
     "data": {
      "text/plain": [
       "1    52.41\n",
       "2    26.44\n",
       "0    20.00\n",
       "4     0.69\n",
       "3     0.46\n",
       "Name: parking, dtype: float64"
      ]
     },
     "execution_count": 13,
     "metadata": {},
     "output_type": "execute_result"
    }
   ],
   "source": [
    "# Check proportion of no of parking in dataset.\n",
    "round(df[\"parking\"].value_counts(normalize=True)*100,2)"
   ]
  },
  {
   "cell_type": "markdown",
   "metadata": {},
   "source": [
    "Most of the units are in high-rise buildings. Half of the units have 3 `bed`, 2 `bath`, and 1 `parking`. The common 3 Bed 2 Bathroom unit is align with how I'd think about housing units today."
   ]
  },
  {
   "cell_type": "markdown",
   "metadata": {},
   "source": [
    "Let's look at the correlation between our features and price of the rental unit. Before that, let's encode our categorical features; `high_rise` and `furnished`."
   ]
  },
  {
   "cell_type": "code",
   "execution_count": 14,
   "metadata": {},
   "outputs": [
    {
     "data": {
      "text/html": [
       "<div>\n",
       "<style scoped>\n",
       "    .dataframe tbody tr th:only-of-type {\n",
       "        vertical-align: middle;\n",
       "    }\n",
       "\n",
       "    .dataframe tbody tr th {\n",
       "        vertical-align: top;\n",
       "    }\n",
       "\n",
       "    .dataframe thead th {\n",
       "        text-align: right;\n",
       "    }\n",
       "</style>\n",
       "<table border=\"1\" class=\"dataframe\">\n",
       "  <thead>\n",
       "    <tr style=\"text-align: right;\">\n",
       "      <th></th>\n",
       "      <th>name</th>\n",
       "      <th>price</th>\n",
       "      <th>sqft</th>\n",
       "      <th>high_rise</th>\n",
       "      <th>furnished</th>\n",
       "      <th>bath</th>\n",
       "      <th>bed</th>\n",
       "      <th>parking</th>\n",
       "    </tr>\n",
       "  </thead>\n",
       "  <tbody>\n",
       "    <tr>\n",
       "      <th>0</th>\n",
       "      <td>Regalia @ Jalan Sultan Ismail, Kuala Lumpur</td>\n",
       "      <td>2800</td>\n",
       "      <td>864</td>\n",
       "      <td>0</td>\n",
       "      <td>0</td>\n",
       "      <td>2</td>\n",
       "      <td>2</td>\n",
       "      <td>1</td>\n",
       "    </tr>\n",
       "    <tr>\n",
       "      <th>1</th>\n",
       "      <td>Puncak Prima Condo, Sri Hartamas, Kuala Lumpur</td>\n",
       "      <td>2300</td>\n",
       "      <td>1095</td>\n",
       "      <td>0</td>\n",
       "      <td>0</td>\n",
       "      <td>2</td>\n",
       "      <td>3</td>\n",
       "      <td>2</td>\n",
       "    </tr>\n",
       "    <tr>\n",
       "      <th>2</th>\n",
       "      <td>The Forum Kuala Lumpur</td>\n",
       "      <td>2800</td>\n",
       "      <td>1206</td>\n",
       "      <td>0</td>\n",
       "      <td>0</td>\n",
       "      <td>2</td>\n",
       "      <td>2</td>\n",
       "      <td>1</td>\n",
       "    </tr>\n",
       "    <tr>\n",
       "      <th>3</th>\n",
       "      <td>Regalia @ Jalan Sultan Ismail, Kuala Lumpur</td>\n",
       "      <td>2800</td>\n",
       "      <td>864</td>\n",
       "      <td>0</td>\n",
       "      <td>0</td>\n",
       "      <td>2</td>\n",
       "      <td>2</td>\n",
       "      <td>1</td>\n",
       "    </tr>\n",
       "    <tr>\n",
       "      <th>4</th>\n",
       "      <td>Blok C4 Seksyen 10 Wangsa Maju Kuala Lumpur</td>\n",
       "      <td>850</td>\n",
       "      <td>500</td>\n",
       "      <td>0</td>\n",
       "      <td>2</td>\n",
       "      <td>2</td>\n",
       "      <td>2</td>\n",
       "      <td>1</td>\n",
       "    </tr>\n",
       "  </tbody>\n",
       "</table>\n",
       "</div>"
      ],
      "text/plain": [
       "                                             name  price  sqft  high_rise  \\\n",
       "0     Regalia @ Jalan Sultan Ismail, Kuala Lumpur   2800   864          0   \n",
       "1  Puncak Prima Condo, Sri Hartamas, Kuala Lumpur   2300  1095          0   \n",
       "2                          The Forum Kuala Lumpur   2800  1206          0   \n",
       "3     Regalia @ Jalan Sultan Ismail, Kuala Lumpur   2800   864          0   \n",
       "4     Blok C4 Seksyen 10 Wangsa Maju Kuala Lumpur    850   500          0   \n",
       "\n",
       "   furnished  bath  bed  parking  \n",
       "0          0     2    2        1  \n",
       "1          0     2    3        2  \n",
       "2          0     2    2        1  \n",
       "3          0     2    2        1  \n",
       "4          2     2    2        1  "
      ]
     },
     "execution_count": 14,
     "metadata": {},
     "output_type": "execute_result"
    }
   ],
   "source": [
    "from sklearn.preprocessing import LabelEncoder\n",
    "\n",
    "enc = LabelEncoder()\n",
    "encoded_df = df.copy()\n",
    "enc.fit(df[\"high_rise\"])\n",
    "encoded_df[\"high_rise\"] = enc.transform(df[\"high_rise\"])\n",
    "enc.fit(df[\"furnished\"])\n",
    "encoded_df[\"furnished\"] = enc.transform(df[\"furnished\"])\n",
    "encoded_df.head()"
   ]
  },
  {
   "cell_type": "code",
   "execution_count": 15,
   "metadata": {},
   "outputs": [
    {
     "data": {
      "text/plain": [
       "price        1.000000\n",
       "bed          0.052552\n",
       "parking      0.023729\n",
       "sqft         0.000687\n",
       "bath        -0.001345\n",
       "high_rise   -0.026071\n",
       "furnished   -0.061605\n",
       "Name: price, dtype: float64"
      ]
     },
     "execution_count": 15,
     "metadata": {},
     "output_type": "execute_result"
    }
   ],
   "source": [
    "encoded_df.corr()[\"price\"].sort_values(ascending=False)"
   ]
  },
  {
   "cell_type": "code",
   "execution_count": 16,
   "metadata": {},
   "outputs": [
    {
     "data": {
      "text/plain": [
       "<matplotlib.axes._subplots.AxesSubplot at 0x1e20b271fd0>"
      ]
     },
     "execution_count": 16,
     "metadata": {},
     "output_type": "execute_result"
    },
    {
     "data": {
      "image/png": "[encoded data removed]",
      "text/plain": [
       "<Figure size 432x288 with 2 Axes>"
      ]
     },
     "metadata": {
      "needs_background": "light"
     },
     "output_type": "display_data"
    }
   ],
   "source": [
    "sns.heatmap(encoded_df.corr(), cmap = \"Blues\")"
   ]
  },
  {
   "cell_type": "markdown",
   "metadata": {},
   "source": [
    "It looks like there's no significant correlation between the features and the price of the rental unit. Maybe we should look into locations of the units but that require further data scrapping from the site. Let's keep using the current data we have and do further analysis with location next time. "
   ]
  },
  {
   "cell_type": "code",
   "execution_count": 17,
   "metadata": {},
   "outputs": [
    {
     "data": {
      "text/plain": [
       "<seaborn.axisgrid.FacetGrid at 0x1e20b271f60>"
      ]
     },
     "execution_count": 17,
     "metadata": {},
     "output_type": "execute_result"
    },
    {
     "data": {
      "image/png": "[encoded data removed]",
      "text/plain": [
       "<Figure size 443.875x360 with 1 Axes>"
      ]
     },
     "metadata": {
      "needs_background": "light"
     },
     "output_type": "display_data"
    }
   ],
   "source": [
    "sns.catplot(x=\"bed\", y=\"bath\", data=df, hue=\"high_rise\")"
   ]
  },
  {
   "cell_type": "markdown",
   "metadata": {},
   "source": [
    "There are units with 0 bedroom and 0 bathroom. "
   ]
  },
  {
   "cell_type": "code",
   "execution_count": 18,
   "metadata": {},
   "outputs": [
    {
     "data": {
      "text/plain": [
       "3"
      ]
     },
     "execution_count": 18,
     "metadata": {},
     "output_type": "execute_result"
    }
   ],
   "source": [
    "len(df.loc[(df[\"bath\"]==0) & (df[\"bed\"]==0)])"
   ]
  },
  {
   "cell_type": "code",
   "execution_count": 19,
   "metadata": {},
   "outputs": [
    {
     "data": {
      "text/html": [
       "<div>\n",
       "<style scoped>\n",
       "    .dataframe tbody tr th:only-of-type {\n",
       "        vertical-align: middle;\n",
       "    }\n",
       "\n",
       "    .dataframe tbody tr th {\n",
       "        vertical-align: top;\n",
       "    }\n",
       "\n",
       "    .dataframe thead th {\n",
       "        text-align: right;\n",
       "    }\n",
       "</style>\n",
       "<table border=\"1\" class=\"dataframe\">\n",
       "  <thead>\n",
       "    <tr style=\"text-align: right;\">\n",
       "      <th></th>\n",
       "      <th>name</th>\n",
       "      <th>price</th>\n",
       "      <th>sqft</th>\n",
       "      <th>high_rise</th>\n",
       "      <th>furnished</th>\n",
       "      <th>bath</th>\n",
       "      <th>bed</th>\n",
       "      <th>parking</th>\n",
       "    </tr>\n",
       "  </thead>\n",
       "  <tbody>\n",
       "    <tr>\n",
       "      <th>279</th>\n",
       "      <td>Suite Vivo , 9 Seputeh</td>\n",
       "      <td>1600</td>\n",
       "      <td>480</td>\n",
       "      <td>High-Rise</td>\n",
       "      <td>Partially furnished</td>\n",
       "      <td>0</td>\n",
       "      <td>0</td>\n",
       "      <td>0</td>\n",
       "    </tr>\n",
       "    <tr>\n",
       "      <th>296</th>\n",
       "      <td>28 Boulevard</td>\n",
       "      <td>1400</td>\n",
       "      <td>450</td>\n",
       "      <td>High-Rise</td>\n",
       "      <td>Partially furnished</td>\n",
       "      <td>0</td>\n",
       "      <td>0</td>\n",
       "      <td>1</td>\n",
       "    </tr>\n",
       "    <tr>\n",
       "      <th>342</th>\n",
       "      <td>Regalia Suites</td>\n",
       "      <td>2000</td>\n",
       "      <td>500</td>\n",
       "      <td>High-Rise</td>\n",
       "      <td>Fully furnished</td>\n",
       "      <td>0</td>\n",
       "      <td>0</td>\n",
       "      <td>0</td>\n",
       "    </tr>\n",
       "  </tbody>\n",
       "</table>\n",
       "</div>"
      ],
      "text/plain": [
       "                       name  price  sqft  high_rise            furnished  \\\n",
       "279  Suite Vivo , 9 Seputeh   1600   480  High-Rise  Partially furnished   \n",
       "296            28 Boulevard   1400   450  High-Rise  Partially furnished   \n",
       "342          Regalia Suites   2000   500  High-Rise      Fully furnished   \n",
       "\n",
       "     bath  bed  parking  \n",
       "279     0    0        0  \n",
       "296     0    0        1  \n",
       "342     0    0        0  "
      ]
     },
     "execution_count": 19,
     "metadata": {},
     "output_type": "execute_result"
    }
   ],
   "source": [
    "df.loc[(df[\"bath\"]==0) & (df[\"bed\"]==0)]"
   ]
  },
  {
   "cell_type": "markdown",
   "metadata": {},
   "source": [
    "These are the units with 0 bedroom and bathroom. Will look into it manually in the website to see why. Could be mistakes by owner when registering their units on the website."
   ]
  },
  {
   "cell_type": "markdown",
   "metadata": {},
   "source": [
    "Let's look at the top 10 most expensive and cheapest rental unit."
   ]
  },
  {
   "cell_type": "code",
   "execution_count": 25,
   "metadata": {},
   "outputs": [
    {
     "data": {
      "text/html": [
       "<div>\n",
       "<style scoped>\n",
       "    .dataframe tbody tr th:only-of-type {\n",
       "        vertical-align: middle;\n",
       "    }\n",
       "\n",
       "    .dataframe tbody tr th {\n",
       "        vertical-align: top;\n",
       "    }\n",
       "\n",
       "    .dataframe thead th {\n",
       "        text-align: right;\n",
       "    }\n",
       "</style>\n",
       "<table border=\"1\" class=\"dataframe\">\n",
       "  <thead>\n",
       "    <tr style=\"text-align: right;\">\n",
       "      <th></th>\n",
       "      <th>name</th>\n",
       "      <th>price</th>\n",
       "      <th>sqft</th>\n",
       "      <th>high_rise</th>\n",
       "      <th>furnished</th>\n",
       "      <th>bath</th>\n",
       "      <th>bed</th>\n",
       "      <th>parking</th>\n",
       "    </tr>\n",
       "  </thead>\n",
       "  <tbody>\n",
       "    <tr>\n",
       "      <th>147</th>\n",
       "      <td>sentrio pandan Facing KLCC</td>\n",
       "      <td>900000</td>\n",
       "      <td>950</td>\n",
       "      <td>High-Rise</td>\n",
       "      <td>Fully furnished</td>\n",
       "      <td>2</td>\n",
       "      <td>3</td>\n",
       "      <td>2</td>\n",
       "    </tr>\n",
       "    <tr>\n",
       "      <th>217</th>\n",
       "      <td>Menara Pelangi, Brickfields</td>\n",
       "      <td>510000</td>\n",
       "      <td>967</td>\n",
       "      <td>High-Rise</td>\n",
       "      <td>Fully furnished</td>\n",
       "      <td>2</td>\n",
       "      <td>3</td>\n",
       "      <td>1</td>\n",
       "    </tr>\n",
       "    <tr>\n",
       "      <th>180</th>\n",
       "      <td>Pelangi Condominium, Sentul</td>\n",
       "      <td>430000</td>\n",
       "      <td>1223</td>\n",
       "      <td>High-Rise</td>\n",
       "      <td>Fully furnished</td>\n",
       "      <td>2</td>\n",
       "      <td>3</td>\n",
       "      <td>1</td>\n",
       "    </tr>\n",
       "    <tr>\n",
       "      <th>228</th>\n",
       "      <td>ascadia</td>\n",
       "      <td>360000</td>\n",
       "      <td>930</td>\n",
       "      <td>High-Rise</td>\n",
       "      <td>Partially furnished</td>\n",
       "      <td>2</td>\n",
       "      <td>3</td>\n",
       "      <td>0</td>\n",
       "    </tr>\n",
       "    <tr>\n",
       "      <th>231</th>\n",
       "      <td>The Valley TTDI, Ampang</td>\n",
       "      <td>14900</td>\n",
       "      <td>5850</td>\n",
       "      <td>Landed</td>\n",
       "      <td>Fully furnished</td>\n",
       "      <td>4</td>\n",
       "      <td>4</td>\n",
       "      <td>0</td>\n",
       "    </tr>\n",
       "    <tr>\n",
       "      <th>20</th>\n",
       "      <td>Gallery U-Thant, Ampang Hilir</td>\n",
       "      <td>9000</td>\n",
       "      <td>4074</td>\n",
       "      <td>High-Rise</td>\n",
       "      <td>Partially furnished</td>\n",
       "      <td>4</td>\n",
       "      <td>3</td>\n",
       "      <td>2</td>\n",
       "    </tr>\n",
       "    <tr>\n",
       "      <th>72</th>\n",
       "      <td>The Park Residences, Bangsar South</td>\n",
       "      <td>6900</td>\n",
       "      <td>2068</td>\n",
       "      <td>High-Rise</td>\n",
       "      <td>Fully furnished</td>\n",
       "      <td>4</td>\n",
       "      <td>4</td>\n",
       "      <td>2</td>\n",
       "    </tr>\n",
       "    <tr>\n",
       "      <th>227</th>\n",
       "      <td>hijauan kiara</td>\n",
       "      <td>6800</td>\n",
       "      <td>2090</td>\n",
       "      <td>High-Rise</td>\n",
       "      <td>Fully furnished</td>\n",
       "      <td>2</td>\n",
       "      <td>3</td>\n",
       "      <td>2</td>\n",
       "    </tr>\n",
       "    <tr>\n",
       "      <th>148</th>\n",
       "      <td>m city, jalan ampang</td>\n",
       "      <td>6250</td>\n",
       "      <td>1920</td>\n",
       "      <td>High-Rise</td>\n",
       "      <td>Fully furnished</td>\n",
       "      <td>3</td>\n",
       "      <td>3</td>\n",
       "      <td>1</td>\n",
       "    </tr>\n",
       "    <tr>\n",
       "      <th>223</th>\n",
       "      <td>exsim | expressionz professional suites @ tun ...</td>\n",
       "      <td>6100</td>\n",
       "      <td>921</td>\n",
       "      <td>High-Rise</td>\n",
       "      <td>Fully furnished</td>\n",
       "      <td>2</td>\n",
       "      <td>2</td>\n",
       "      <td>1</td>\n",
       "    </tr>\n",
       "  </tbody>\n",
       "</table>\n",
       "</div>"
      ],
      "text/plain": [
       "                                                  name   price  sqft  \\\n",
       "147                         sentrio pandan Facing KLCC  900000   950   \n",
       "217                        Menara Pelangi, Brickfields  510000   967   \n",
       "180                        Pelangi Condominium, Sentul  430000  1223   \n",
       "228                                            ascadia  360000   930   \n",
       "231                            The Valley TTDI, Ampang   14900  5850   \n",
       "20                       Gallery U-Thant, Ampang Hilir    9000  4074   \n",
       "72                  The Park Residences, Bangsar South    6900  2068   \n",
       "227                                      hijauan kiara    6800  2090   \n",
       "148                               m city, jalan ampang    6250  1920   \n",
       "223  exsim | expressionz professional suites @ tun ...    6100   921   \n",
       "\n",
       "     high_rise            furnished  bath  bed  parking  \n",
       "147  High-Rise      Fully furnished     2    3        2  \n",
       "217  High-Rise      Fully furnished     2    3        1  \n",
       "180  High-Rise      Fully furnished     2    3        1  \n",
       "228  High-Rise  Partially furnished     2    3        0  \n",
       "231     Landed      Fully furnished     4    4        0  \n",
       "20   High-Rise  Partially furnished     4    3        2  \n",
       "72   High-Rise      Fully furnished     4    4        2  \n",
       "227  High-Rise      Fully furnished     2    3        2  \n",
       "148  High-Rise      Fully furnished     3    3        1  \n",
       "223  High-Rise      Fully furnished     2    2        1  "
      ]
     },
     "execution_count": 25,
     "metadata": {},
     "output_type": "execute_result"
    }
   ],
   "source": [
    "df.sort_values(by=\"price\", ascending=False).head(10)"
   ]
  },
  {
   "cell_type": "code",
   "execution_count": 26,
   "metadata": {},
   "outputs": [
    {
     "data": {
      "text/html": [
       "<div>\n",
       "<style scoped>\n",
       "    .dataframe tbody tr th:only-of-type {\n",
       "        vertical-align: middle;\n",
       "    }\n",
       "\n",
       "    .dataframe tbody tr th {\n",
       "        vertical-align: top;\n",
       "    }\n",
       "\n",
       "    .dataframe thead th {\n",
       "        text-align: right;\n",
       "    }\n",
       "</style>\n",
       "<table border=\"1\" class=\"dataframe\">\n",
       "  <thead>\n",
       "    <tr style=\"text-align: right;\">\n",
       "      <th></th>\n",
       "      <th>name</th>\n",
       "      <th>price</th>\n",
       "      <th>sqft</th>\n",
       "      <th>high_rise</th>\n",
       "      <th>furnished</th>\n",
       "      <th>bath</th>\n",
       "      <th>bed</th>\n",
       "      <th>parking</th>\n",
       "    </tr>\n",
       "  </thead>\n",
       "  <tbody>\n",
       "    <tr>\n",
       "      <th>164</th>\n",
       "      <td>Sang Suria, Sentul</td>\n",
       "      <td>400</td>\n",
       "      <td>1200</td>\n",
       "      <td>High-Rise</td>\n",
       "      <td>Fully furnished</td>\n",
       "      <td>1</td>\n",
       "      <td>1</td>\n",
       "      <td>0</td>\n",
       "    </tr>\n",
       "    <tr>\n",
       "      <th>384</th>\n",
       "      <td>jalan ayer panas baharu</td>\n",
       "      <td>350</td>\n",
       "      <td>1000</td>\n",
       "      <td>Landed</td>\n",
       "      <td>Partially furnished</td>\n",
       "      <td>4</td>\n",
       "      <td>4</td>\n",
       "      <td>2</td>\n",
       "    </tr>\n",
       "    <tr>\n",
       "      <th>236</th>\n",
       "      <td>de tropicana, kuchai lama</td>\n",
       "      <td>350</td>\n",
       "      <td>1102</td>\n",
       "      <td>High-Rise</td>\n",
       "      <td>Partially furnished</td>\n",
       "      <td>2</td>\n",
       "      <td>1</td>\n",
       "      <td>0</td>\n",
       "    </tr>\n",
       "    <tr>\n",
       "      <th>298</th>\n",
       "      <td>FLAT PANDAN JAYA</td>\n",
       "      <td>350</td>\n",
       "      <td>0</td>\n",
       "      <td>High-Rise</td>\n",
       "      <td>Partially furnished</td>\n",
       "      <td>1</td>\n",
       "      <td>0</td>\n",
       "      <td>1</td>\n",
       "    </tr>\n",
       "    <tr>\n",
       "      <th>276</th>\n",
       "      <td>Seasons Garden Residences, Wangsa Maju</td>\n",
       "      <td>350</td>\n",
       "      <td>950</td>\n",
       "      <td>High-Rise</td>\n",
       "      <td>Partially furnished</td>\n",
       "      <td>2</td>\n",
       "      <td>3</td>\n",
       "      <td>0</td>\n",
       "    </tr>\n",
       "    <tr>\n",
       "      <th>269</th>\n",
       "      <td>Landed room bilik near LRT and AEON 016-9743361</td>\n",
       "      <td>330</td>\n",
       "      <td>1800</td>\n",
       "      <td>Landed</td>\n",
       "      <td>Partially furnished</td>\n",
       "      <td>3</td>\n",
       "      <td>3</td>\n",
       "      <td>0</td>\n",
       "    </tr>\n",
       "    <tr>\n",
       "      <th>310</th>\n",
       "      <td>University Tower, Petaling Jaya</td>\n",
       "      <td>327</td>\n",
       "      <td>1200</td>\n",
       "      <td>High-Rise</td>\n",
       "      <td>Partially furnished</td>\n",
       "      <td>1</td>\n",
       "      <td>1</td>\n",
       "      <td>0</td>\n",
       "    </tr>\n",
       "    <tr>\n",
       "      <th>128</th>\n",
       "      <td>Amadesa, Desa Petaling</td>\n",
       "      <td>310</td>\n",
       "      <td>750</td>\n",
       "      <td>High-Rise</td>\n",
       "      <td>Partially furnished</td>\n",
       "      <td>2</td>\n",
       "      <td>2</td>\n",
       "      <td>1</td>\n",
       "    </tr>\n",
       "    <tr>\n",
       "      <th>198</th>\n",
       "      <td>ROOM FOR RENT (TERRACE HOUSE)</td>\n",
       "      <td>275</td>\n",
       "      <td>250</td>\n",
       "      <td>Landed</td>\n",
       "      <td>Partially furnished</td>\n",
       "      <td>3</td>\n",
       "      <td>5</td>\n",
       "      <td>4</td>\n",
       "    </tr>\n",
       "    <tr>\n",
       "      <th>335</th>\n",
       "      <td>sri penara</td>\n",
       "      <td>250</td>\n",
       "      <td>600</td>\n",
       "      <td>High-Rise</td>\n",
       "      <td>Partially furnished</td>\n",
       "      <td>4</td>\n",
       "      <td>4</td>\n",
       "      <td>0</td>\n",
       "    </tr>\n",
       "  </tbody>\n",
       "</table>\n",
       "</div>"
      ],
      "text/plain": [
       "                                                name  price  sqft  high_rise  \\\n",
       "164                               Sang Suria, Sentul    400  1200  High-Rise   \n",
       "384                         jalan ayer panas baharu     350  1000     Landed   \n",
       "236                        de tropicana, kuchai lama    350  1102  High-Rise   \n",
       "298                                 FLAT PANDAN JAYA    350     0  High-Rise   \n",
       "276           Seasons Garden Residences, Wangsa Maju    350   950  High-Rise   \n",
       "269  Landed room bilik near LRT and AEON 016-9743361    330  1800     Landed   \n",
       "310                  University Tower, Petaling Jaya    327  1200  High-Rise   \n",
       "128                           Amadesa, Desa Petaling    310   750  High-Rise   \n",
       "198                    ROOM FOR RENT (TERRACE HOUSE)    275   250     Landed   \n",
       "335                                       sri penara    250   600  High-Rise   \n",
       "\n",
       "               furnished  bath  bed  parking  \n",
       "164      Fully furnished     1    1        0  \n",
       "384  Partially furnished     4    4        2  \n",
       "236  Partially furnished     2    1        0  \n",
       "298  Partially furnished     1    0        1  \n",
       "276  Partially furnished     2    3        0  \n",
       "269  Partially furnished     3    3        0  \n",
       "310  Partially furnished     1    1        0  \n",
       "128  Partially furnished     2    2        1  \n",
       "198  Partially furnished     3    5        4  \n",
       "335  Partially furnished     4    4        0  "
      ]
     },
     "execution_count": 26,
     "metadata": {},
     "output_type": "execute_result"
    }
   ],
   "source": [
    "df.sort_values(by=\"price\", ascending=False).tail(10)"
   ]
  },
  {
   "cell_type": "markdown",
   "metadata": {},
   "source": [
    "Looking at these shows us that some users are using the platform improperly. Among the cheapest unit, they are only renting a room but advertised as the whole house/apartment. Remember that from the [SpeedHome-Scraping](https://github.com/ahmadhafifihamdan/learning-projects/blob/master/speedhomerental/SpeedHome-Scraping.ipynb), I have already filtered out rooms' rental and only look at the whole unit.\n",
    "\n",
    "The top 4 most expensive unit seems like improperly priced or wrongly advertised as rental and actually is for sale. For example: [ascadia](https://speedhome.com/ads/ascadia-IJMCWJEQ)\n",
    "\n",
    "On top of that, Speedhome website actually doesn't return the result that you wanted by looking at some of the names above which causing trouble in manually checking some of the listing. This also means that potential tenants missed out on rental units because they couldn't find the name of apartment or area that are searching."
   ]
  },
  {
   "cell_type": "markdown",
   "metadata": {},
   "source": [
    "## Conclusion\n",
    "Speedhome might need to do some spring cleaning in their database and consider changing the form that potential landlords are posting their units or provide samples for the users to use as guidance when posting their units.\n",
    "\n",
    "This marks the end for the simple analysis from the data scraped from Speedhome. As mentioned above, in the future, I will try to crawl further and fetch the location and other features of the units aside from what I've gathered now.\n",
    "\n",
    "Thank you for reading!"
   ]
  },
  {
   "cell_type": "code",
   "execution_count": null,
   "metadata": {},
   "outputs": [],
   "source": []
  }
 ],
 "metadata": {
  "kernelspec": {
   "display_name": "Python 3",
   "language": "python",
   "name": "python3"
  },
  "language_info": {
   "codemirror_mode": {
    "name": "ipython",
    "version": 3
   },
   "file_extension": ".py",
   "mimetype": "text/x-python",
   "name": "python",
   "nbconvert_exporter": "python",
   "pygments_lexer": "ipython3",
   "version": "3.7.3"
  }
 },
 "nbformat": 4,
 "nbformat_minor": 2
}
