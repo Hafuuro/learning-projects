{
 "cells": [
  {
   "cell_type": "markdown",
   "metadata": {},
   "source": [
    "# Web scraping from Speedhome"
   ]
  },
  {
   "cell_type": "markdown",
   "metadata": {},
   "source": [
    "I am building this scraper to get rental data from [Speedhome](https://speedhome.com) to analyze the rental industry in Kuala Lumpur based on data available on the website. Below are documentation of my work.\n",
    "\n",
    "**Disclaimer**: I scraped this site for my own personal project. Please scrape responsibly and ethically. [Ethics in Web Scraping](https://towardsdatascience.com/ethics-in-web-scraping-b96b18136f01)\n"
   ]
  },
  {
   "cell_type": "markdown",
   "metadata": {},
   "source": [
    "## Modules for web scraping\n",
    "Import modules for web scraping: `requests` and `BeautifulSoup`"
   ]
  },
  {
   "cell_type": "code",
   "execution_count": 1,
   "metadata": {},
   "outputs": [],
   "source": [
    "import requests\n",
    "from bs4 import BeautifulSoup\n",
    "from time import sleep\n",
    "from random import randint\n",
    "import pandas as pd\n",
    "\n",
    "BASE_URL = \"https://speedhome.com\""
   ]
  },
  {
   "cell_type": "markdown",
   "metadata": {},
   "source": [
    "Below is the core code to scrape from Speedhome.\n",
    "\n",
    "This current code is taking only 3 pages from Speedhome as a proof of concept. The real data that I have scraped all 78 pages of rental adverts on Speedhome."
   ]
  },
  {
   "cell_type": "code",
   "execution_count": 2,
   "metadata": {},
   "outputs": [
    {
     "name": "stdout",
     "output_type": "stream",
     "text": [
      "Now scraping https://speedhome.com/rent?pg=1\n",
      "Sleeping\n",
      "Now scraping https://speedhome.com/rent?pg=2\n",
      "Sleeping\n",
      "Now scraping https://speedhome.com/rent?pg=3\n",
      "Sleeping\n"
     ]
    }
   ],
   "source": [
    "rental = []\n",
    "url = \"/rent?pg=1\"\n",
    "i = 0\n",
    "\n",
    "while url:\n",
    "    res = requests.get(f\"{BASE_URL}{url}\")\n",
    "    print(f\"Now scraping {BASE_URL}{url}\")\n",
    "    soup = BeautifulSoup(res.text, \"html.parser\")\n",
    "    rent = soup.find_all(class_=\"pro-col pro-grid col-xs-12 col-sm-4\")\n",
    "\n",
    "    for home in rent:\n",
    "        rental.append({\n",
    "            \"name\":home.find(class_=\"pro-title\").get_text(),\n",
    "            \"price\":home.find(class_=\"price\").get_text(),\n",
    "            \"features\":home.find(class_=\"features-sub\").get_text(\",\", strip=True).split(\",\"),\n",
    "            \"facilities\":[i[0] + \" \" + i[1] for i in list(zip(home.find(class_=\"facilities\").get_text(\",\", strip=True).split(\",\"), [i[\"src\"][16:-4] for i in home.find(class_=\"facilities\").find_all(\"img\")]))],\n",
    "\n",
    "        })\n",
    "    next = soup.find(class_ = \"next\")\n",
    "    url = next[\"href\"] if next else None\n",
    "    \n",
    "    \n",
    "    # Spacing out request to not overload the server.\n",
    "    print(\"Sleeping\")\n",
    "    sleep(randint(10,60))  \n",
    "    \n",
    "    \n",
    "    # Stop scraping after 3 page as a proof of concept. Real data scraped from all pages\n",
    "    i += 1\n",
    "    if i > 2:\n",
    "        break"
   ]
  },
  {
   "cell_type": "markdown",
   "metadata": {},
   "source": [
    "The image below is snipped from Speedhome. The code above scraped the `name`, `price`, `features` and `facilities` every rental unit advertised.\n",
    "\n",
    "![alt text](images/speedhomesnippet.png \"Speedhome Rental Snippet\")"
   ]
  },
  {
   "cell_type": "markdown",
   "metadata": {},
   "source": [
    "For example, looking at the first image, the scraper will get the data as below:\n",
    "```python\n",
    "    {'name': 'Regalia @ Jalan Sultan Ismail, Kuala Lumpur',\n",
    "     'price': 'RM 2,800',\n",
    "     'features': ['864 sqft', 'High-Rise', 'Fully furnished'],\n",
    "     'facilities': ['2 bed', '2 bath', '1 parking'],\n",
    "     ...}\n",
    "```"
   ]
  },
  {
   "cell_type": "markdown",
   "metadata": {},
   "source": [
    "The first three data available which is equivalent to the image above is shown below"
   ]
  },
  {
   "cell_type": "code",
   "execution_count": 3,
   "metadata": {},
   "outputs": [
    {
     "data": {
      "text/plain": [
       "[{'name': 'Regalia @ Jalan Sultan Ismail, Kuala Lumpur',\n",
       "  'price': 'RM 2,800',\n",
       "  'features': ['864 sqft', 'High-Rise', 'Fully furnished'],\n",
       "  'facilities': ['2 bed', '2 bath', '1 parking']},\n",
       " {'name': 'Puncak Prima Condo, Sri Hartamas, Kuala Lumpur',\n",
       "  'price': 'RM 2,300',\n",
       "  'features': ['1095 sqft', 'High-Rise', 'Fully furnished'],\n",
       "  'facilities': ['3 bed', '2 bath', '2 parking']},\n",
       " {'name': 'Apartment Unit for Rent',\n",
       "  'price': 'RM 2,000',\n",
       "  'features': ['1800 sqft', 'High-Rise', 'Partially furnished'],\n",
       "  'facilities': ['3 bed', '2 bath', '1 parking']}]"
      ]
     },
     "execution_count": 3,
     "metadata": {},
     "output_type": "execute_result"
    }
   ],
   "source": [
    "rental[:3]"
   ]
  },
  {
   "cell_type": "markdown",
   "metadata": {},
   "source": [
    "There are 2 types of rentals advertised in Speedhome. \n",
    "1. A whole apartment/home\n",
    "2. A room\n",
    "\n",
    "I am only interested in the 1st type of rental. So, I will remove the 2nd type of data that is available."
   ]
  },
  {
   "cell_type": "code",
   "execution_count": 4,
   "metadata": {},
   "outputs": [],
   "source": [
    "rental_clean = []\n",
    "\n",
    "for i in rental:\n",
    "    if len(i[\"facilities\"]) == 3:\n",
    "        rental_clean.append(i)"
   ]
  },
  {
   "cell_type": "code",
   "execution_count": 5,
   "metadata": {},
   "outputs": [
    {
     "data": {
      "text/plain": [
       "63"
      ]
     },
     "execution_count": 5,
     "metadata": {},
     "output_type": "execute_result"
    }
   ],
   "source": [
    "len(rental)"
   ]
  },
  {
   "cell_type": "code",
   "execution_count": 6,
   "metadata": {},
   "outputs": [
    {
     "data": {
      "text/plain": [
       "44"
      ]
     },
     "execution_count": 6,
     "metadata": {},
     "output_type": "execute_result"
    }
   ],
   "source": [
    "len(rental_clean)"
   ]
  },
  {
   "cell_type": "markdown",
   "metadata": {},
   "source": [
    "So from 63 available data, we have removed 19 from our dataset to get only the 1st type of rental.\n",
    "\n",
    "Continuing from that, I further clean the data by separating the `features` and `facilities` of the rental units.\n",
    "\n",
    "1. `features` is divided into:\n",
    "    \n",
    "    * `sqft`: Square foot of the unit, \n",
    "    * `high_rise`: High-rise or landed unit, \n",
    "    * `furnished`: The furnishing of the unit\n",
    "    \n",
    "    \n",
    "2. `facilities` is divided into:\n",
    "\n",
    "    * `bed`: No of bedrooms, \n",
    "    * `bath`: No of bathrooms, \n",
    "    * `parking`: No of parking available"
   ]
  },
  {
   "cell_type": "code",
   "execution_count": 7,
   "metadata": {},
   "outputs": [
    {
     "data": {
      "text/plain": [
       "[{'name': 'Regalia @ Jalan Sultan Ismail, Kuala Lumpur',\n",
       "  'price': 'RM 2,800',\n",
       "  'features': ['864 sqft', 'High-Rise', 'Fully furnished'],\n",
       "  'facilities': ['2 bed', '2 bath', '1 parking'],\n",
       "  'sqft': '864 sqft',\n",
       "  'high_rise': 'High-Rise',\n",
       "  'furnished': 'Fully furnished',\n",
       "  'bed': '2 bed',\n",
       "  'bath': '2 bath',\n",
       "  'parking': '1 parking'},\n",
       " {'name': 'Puncak Prima Condo, Sri Hartamas, Kuala Lumpur',\n",
       "  'price': 'RM 2,300',\n",
       "  'features': ['1095 sqft', 'High-Rise', 'Fully furnished'],\n",
       "  'facilities': ['3 bed', '2 bath', '2 parking'],\n",
       "  'sqft': '1095 sqft',\n",
       "  'high_rise': 'High-Rise',\n",
       "  'furnished': 'Fully furnished',\n",
       "  'bed': '3 bed',\n",
       "  'bath': '2 bath',\n",
       "  'parking': '2 parking'},\n",
       " {'name': 'Apartment Unit for Rent',\n",
       "  'price': 'RM 2,000',\n",
       "  'features': ['1800 sqft', 'High-Rise', 'Partially furnished'],\n",
       "  'facilities': ['3 bed', '2 bath', '1 parking'],\n",
       "  'sqft': '1800 sqft',\n",
       "  'high_rise': 'High-Rise',\n",
       "  'furnished': 'Partially furnished',\n",
       "  'bed': '3 bed',\n",
       "  'bath': '2 bath',\n",
       "  'parking': '1 parking'}]"
      ]
     },
     "execution_count": 7,
     "metadata": {},
     "output_type": "execute_result"
    }
   ],
   "source": [
    "for i in rental_clean:\n",
    "    i.update({\"sqft\":i[\"features\"][0], \"high_rise\":i[\"features\"][1], \"furnished\":i[\"features\"][2]})\n",
    "    i.update({\"bed\":i[\"facilities\"][0], \"bath\":i[\"facilities\"][1], \"parking\":i[\"facilities\"][2]})\n",
    "\n",
    "rental_clean[:3]"
   ]
  },
  {
   "cell_type": "markdown",
   "metadata": {},
   "source": [
    "We then turn the data that we have into a dataframe using `pandas` for better storage in csv file."
   ]
  },
  {
   "cell_type": "code",
   "execution_count": 8,
   "metadata": {},
   "outputs": [],
   "source": [
    "df = pd.DataFrame(rental_clean)"
   ]
  },
  {
   "cell_type": "code",
   "execution_count": 9,
   "metadata": {},
   "outputs": [
    {
     "data": {
      "text/html": [
       "<div>\n",
       "<style scoped>\n",
       "    .dataframe tbody tr th:only-of-type {\n",
       "        vertical-align: middle;\n",
       "    }\n",
       "\n",
       "    .dataframe tbody tr th {\n",
       "        vertical-align: top;\n",
       "    }\n",
       "\n",
       "    .dataframe thead th {\n",
       "        text-align: right;\n",
       "    }\n",
       "</style>\n",
       "<table border=\"1\" class=\"dataframe\">\n",
       "  <thead>\n",
       "    <tr style=\"text-align: right;\">\n",
       "      <th></th>\n",
       "      <th>bath</th>\n",
       "      <th>bed</th>\n",
       "      <th>facilities</th>\n",
       "      <th>features</th>\n",
       "      <th>furnished</th>\n",
       "      <th>high_rise</th>\n",
       "      <th>name</th>\n",
       "      <th>parking</th>\n",
       "      <th>price</th>\n",
       "      <th>sqft</th>\n",
       "    </tr>\n",
       "  </thead>\n",
       "  <tbody>\n",
       "    <tr>\n",
       "      <th>0</th>\n",
       "      <td>2 bath</td>\n",
       "      <td>2 bed</td>\n",
       "      <td>[2 bed, 2 bath, 1 parking]</td>\n",
       "      <td>[864 sqft, High-Rise, Fully furnished]</td>\n",
       "      <td>Fully furnished</td>\n",
       "      <td>High-Rise</td>\n",
       "      <td>Regalia @ Jalan Sultan Ismail, Kuala Lumpur</td>\n",
       "      <td>1 parking</td>\n",
       "      <td>RM 2,800</td>\n",
       "      <td>864 sqft</td>\n",
       "    </tr>\n",
       "    <tr>\n",
       "      <th>1</th>\n",
       "      <td>2 bath</td>\n",
       "      <td>3 bed</td>\n",
       "      <td>[3 bed, 2 bath, 2 parking]</td>\n",
       "      <td>[1095 sqft, High-Rise, Fully furnished]</td>\n",
       "      <td>Fully furnished</td>\n",
       "      <td>High-Rise</td>\n",
       "      <td>Puncak Prima Condo, Sri Hartamas, Kuala Lumpur</td>\n",
       "      <td>2 parking</td>\n",
       "      <td>RM 2,300</td>\n",
       "      <td>1095 sqft</td>\n",
       "    </tr>\n",
       "    <tr>\n",
       "      <th>2</th>\n",
       "      <td>2 bath</td>\n",
       "      <td>3 bed</td>\n",
       "      <td>[3 bed, 2 bath, 1 parking]</td>\n",
       "      <td>[1800 sqft, High-Rise, Partially furnished]</td>\n",
       "      <td>Partially furnished</td>\n",
       "      <td>High-Rise</td>\n",
       "      <td>Apartment Unit for Rent</td>\n",
       "      <td>1 parking</td>\n",
       "      <td>RM 2,000</td>\n",
       "      <td>1800 sqft</td>\n",
       "    </tr>\n",
       "    <tr>\n",
       "      <th>3</th>\n",
       "      <td>2 bath</td>\n",
       "      <td>3 bed</td>\n",
       "      <td>[3 bed, 2 bath, 1 parking]</td>\n",
       "      <td>[1080 sqft, High-Rise, Fully furnished]</td>\n",
       "      <td>Fully furnished</td>\n",
       "      <td>High-Rise</td>\n",
       "      <td>putra majestik, jalan ipoh</td>\n",
       "      <td>1 parking</td>\n",
       "      <td>RM 1,800</td>\n",
       "      <td>1080 sqft</td>\n",
       "    </tr>\n",
       "    <tr>\n",
       "      <th>4</th>\n",
       "      <td>4 bath</td>\n",
       "      <td>4 bed</td>\n",
       "      <td>[4 bed, 4 bath, 1 parking]</td>\n",
       "      <td>[2902 sqft, High-Rise, Fully furnished]</td>\n",
       "      <td>Fully furnished</td>\n",
       "      <td>High-Rise</td>\n",
       "      <td>THE MARC RESIDENCE KLCC SUITES</td>\n",
       "      <td>1 parking</td>\n",
       "      <td>RM 12,000</td>\n",
       "      <td>2902 sqft</td>\n",
       "    </tr>\n",
       "  </tbody>\n",
       "</table>\n",
       "</div>"
      ],
      "text/plain": [
       "     bath    bed                  facilities  \\\n",
       "0  2 bath  2 bed  [2 bed, 2 bath, 1 parking]   \n",
       "1  2 bath  3 bed  [3 bed, 2 bath, 2 parking]   \n",
       "2  2 bath  3 bed  [3 bed, 2 bath, 1 parking]   \n",
       "3  2 bath  3 bed  [3 bed, 2 bath, 1 parking]   \n",
       "4  4 bath  4 bed  [4 bed, 4 bath, 1 parking]   \n",
       "\n",
       "                                      features            furnished  \\\n",
       "0       [864 sqft, High-Rise, Fully furnished]      Fully furnished   \n",
       "1      [1095 sqft, High-Rise, Fully furnished]      Fully furnished   \n",
       "2  [1800 sqft, High-Rise, Partially furnished]  Partially furnished   \n",
       "3      [1080 sqft, High-Rise, Fully furnished]      Fully furnished   \n",
       "4      [2902 sqft, High-Rise, Fully furnished]      Fully furnished   \n",
       "\n",
       "   high_rise                                            name    parking  \\\n",
       "0  High-Rise     Regalia @ Jalan Sultan Ismail, Kuala Lumpur  1 parking   \n",
       "1  High-Rise  Puncak Prima Condo, Sri Hartamas, Kuala Lumpur  2 parking   \n",
       "2  High-Rise                         Apartment Unit for Rent  1 parking   \n",
       "3  High-Rise                      putra majestik, jalan ipoh  1 parking   \n",
       "4  High-Rise                  THE MARC RESIDENCE KLCC SUITES  1 parking   \n",
       "\n",
       "       price       sqft  \n",
       "0   RM 2,800   864 sqft  \n",
       "1   RM 2,300  1095 sqft  \n",
       "2   RM 2,000  1800 sqft  \n",
       "3   RM 1,800  1080 sqft  \n",
       "4  RM 12,000  2902 sqft  "
      ]
     },
     "execution_count": 9,
     "metadata": {},
     "output_type": "execute_result"
    }
   ],
   "source": [
    "df.head()"
   ]
  },
  {
   "cell_type": "code",
   "execution_count": 10,
   "metadata": {},
   "outputs": [
    {
     "data": {
      "text/plain": [
       "Index(['bath', 'bed', 'facilities', 'features', 'furnished', 'high_rise',\n",
       "       'name', 'parking', 'price', 'sqft'],\n",
       "      dtype='object')"
      ]
     },
     "execution_count": 10,
     "metadata": {},
     "output_type": "execute_result"
    }
   ],
   "source": [
    "df.columns"
   ]
  },
  {
   "cell_type": "markdown",
   "metadata": {},
   "source": [
    "Since `features` and `facilities` are redundant as we have split it, we will remove it from our data frame and order the data frame as below."
   ]
  },
  {
   "cell_type": "code",
   "execution_count": 11,
   "metadata": {},
   "outputs": [],
   "source": [
    "df = df[[\"name\", \"price\", \"sqft\", \"high_rise\", \"furnished\", \"bath\", \"bed\", \"parking\"]]"
   ]
  },
  {
   "cell_type": "code",
   "execution_count": 12,
   "metadata": {},
   "outputs": [
    {
     "data": {
      "text/html": [
       "<div>\n",
       "<style scoped>\n",
       "    .dataframe tbody tr th:only-of-type {\n",
       "        vertical-align: middle;\n",
       "    }\n",
       "\n",
       "    .dataframe tbody tr th {\n",
       "        vertical-align: top;\n",
       "    }\n",
       "\n",
       "    .dataframe thead th {\n",
       "        text-align: right;\n",
       "    }\n",
       "</style>\n",
       "<table border=\"1\" class=\"dataframe\">\n",
       "  <thead>\n",
       "    <tr style=\"text-align: right;\">\n",
       "      <th></th>\n",
       "      <th>name</th>\n",
       "      <th>price</th>\n",
       "      <th>sqft</th>\n",
       "      <th>high_rise</th>\n",
       "      <th>furnished</th>\n",
       "      <th>bath</th>\n",
       "      <th>bed</th>\n",
       "      <th>parking</th>\n",
       "    </tr>\n",
       "  </thead>\n",
       "  <tbody>\n",
       "    <tr>\n",
       "      <th>0</th>\n",
       "      <td>Regalia @ Jalan Sultan Ismail, Kuala Lumpur</td>\n",
       "      <td>RM 2,800</td>\n",
       "      <td>864 sqft</td>\n",
       "      <td>High-Rise</td>\n",
       "      <td>Fully furnished</td>\n",
       "      <td>2 bath</td>\n",
       "      <td>2 bed</td>\n",
       "      <td>1 parking</td>\n",
       "    </tr>\n",
       "    <tr>\n",
       "      <th>1</th>\n",
       "      <td>Puncak Prima Condo, Sri Hartamas, Kuala Lumpur</td>\n",
       "      <td>RM 2,300</td>\n",
       "      <td>1095 sqft</td>\n",
       "      <td>High-Rise</td>\n",
       "      <td>Fully furnished</td>\n",
       "      <td>2 bath</td>\n",
       "      <td>3 bed</td>\n",
       "      <td>2 parking</td>\n",
       "    </tr>\n",
       "    <tr>\n",
       "      <th>2</th>\n",
       "      <td>Apartment Unit for Rent</td>\n",
       "      <td>RM 2,000</td>\n",
       "      <td>1800 sqft</td>\n",
       "      <td>High-Rise</td>\n",
       "      <td>Partially furnished</td>\n",
       "      <td>2 bath</td>\n",
       "      <td>3 bed</td>\n",
       "      <td>1 parking</td>\n",
       "    </tr>\n",
       "    <tr>\n",
       "      <th>3</th>\n",
       "      <td>putra majestik, jalan ipoh</td>\n",
       "      <td>RM 1,800</td>\n",
       "      <td>1080 sqft</td>\n",
       "      <td>High-Rise</td>\n",
       "      <td>Fully furnished</td>\n",
       "      <td>2 bath</td>\n",
       "      <td>3 bed</td>\n",
       "      <td>1 parking</td>\n",
       "    </tr>\n",
       "    <tr>\n",
       "      <th>4</th>\n",
       "      <td>THE MARC RESIDENCE KLCC SUITES</td>\n",
       "      <td>RM 12,000</td>\n",
       "      <td>2902 sqft</td>\n",
       "      <td>High-Rise</td>\n",
       "      <td>Fully furnished</td>\n",
       "      <td>4 bath</td>\n",
       "      <td>4 bed</td>\n",
       "      <td>1 parking</td>\n",
       "    </tr>\n",
       "  </tbody>\n",
       "</table>\n",
       "</div>"
      ],
      "text/plain": [
       "                                             name      price       sqft  \\\n",
       "0     Regalia @ Jalan Sultan Ismail, Kuala Lumpur   RM 2,800   864 sqft   \n",
       "1  Puncak Prima Condo, Sri Hartamas, Kuala Lumpur   RM 2,300  1095 sqft   \n",
       "2                         Apartment Unit for Rent   RM 2,000  1800 sqft   \n",
       "3                      putra majestik, jalan ipoh   RM 1,800  1080 sqft   \n",
       "4                  THE MARC RESIDENCE KLCC SUITES  RM 12,000  2902 sqft   \n",
       "\n",
       "   high_rise            furnished    bath    bed    parking  \n",
       "0  High-Rise      Fully furnished  2 bath  2 bed  1 parking  \n",
       "1  High-Rise      Fully furnished  2 bath  3 bed  2 parking  \n",
       "2  High-Rise  Partially furnished  2 bath  3 bed  1 parking  \n",
       "3  High-Rise      Fully furnished  2 bath  3 bed  1 parking  \n",
       "4  High-Rise      Fully furnished  4 bath  4 bed  1 parking  "
      ]
     },
     "execution_count": 12,
     "metadata": {},
     "output_type": "execute_result"
    }
   ],
   "source": [
    "df.head()"
   ]
  },
  {
   "cell_type": "markdown",
   "metadata": {},
   "source": [
    "Data is now saved in a csv file."
   ]
  },
  {
   "cell_type": "code",
   "execution_count": 13,
   "metadata": {},
   "outputs": [],
   "source": [
    "df.to_csv(\"data/speedhome_proofofconcept.csv\", encoding='utf-8', index=False)"
   ]
  },
  {
   "cell_type": "code",
   "execution_count": 14,
   "metadata": {},
   "outputs": [
    {
     "name": "stdout",
     "output_type": "stream",
     "text": [
      "<class 'pandas.core.frame.DataFrame'>\n",
      "RangeIndex: 44 entries, 0 to 43\n",
      "Data columns (total 8 columns):\n",
      "name         44 non-null object\n",
      "price        44 non-null object\n",
      "sqft         44 non-null object\n",
      "high_rise    44 non-null object\n",
      "furnished    44 non-null object\n",
      "bath         44 non-null object\n",
      "bed          44 non-null object\n",
      "parking      44 non-null object\n",
      "dtypes: object(8)\n",
      "memory usage: 2.8+ KB\n"
     ]
    }
   ],
   "source": [
    "df.info()"
   ]
  },
  {
   "cell_type": "markdown",
   "metadata": {},
   "source": [
    "We've come to the end of scraping the data from Speedhome. This is the first time I'm scraping for data from a website. The core code of scraping is not perfect due to my inexperience but as a proof of concept, this totally works.\n",
    "\n",
    "As I said, please scrape responsibly and ethically if you want to do so.\n",
    "\n",
    "Thank you for reading!"
   ]
  },
  {
   "cell_type": "code",
   "execution_count": null,
   "metadata": {},
   "outputs": [],
   "source": []
  }
 ],
 "metadata": {
  "kernelspec": {
   "display_name": "Python 3",
   "language": "python",
   "name": "python3"
  },
  "language_info": {
   "codemirror_mode": {
    "name": "ipython",
    "version": 3
   },
   "file_extension": ".py",
   "mimetype": "text/x-python",
   "name": "python",
   "nbconvert_exporter": "python",
   "pygments_lexer": "ipython3",
   "version": "3.7.3"
  }
 },
 "nbformat": 4,
 "nbformat_minor": 2
}
